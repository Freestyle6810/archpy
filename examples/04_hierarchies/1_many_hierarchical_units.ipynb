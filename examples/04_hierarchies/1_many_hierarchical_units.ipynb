{
 "cells": [
  {
   "cell_type": "markdown",
   "metadata": {},
   "source": [
    "# Hierarchical modeling with ArchPy\n",
    "\n",
    "This notebook demonstrates the capabilities of ArchPy to simulate any level of hierarchy."
   ]
  },
  {
   "cell_type": "code",
   "execution_count": 1,
   "metadata": {},
   "outputs": [
    {
     "name": "stdout",
     "output_type": "stream",
     "text": [
      "ArchPy not installed\n"
     ]
    }
   ],
   "source": [
    "import numpy as np\n",
    "import matplotlib.pyplot as plt\n",
    "import geone\n",
    "import geone.covModel as gcm\n",
    "import os\n",
    "import sys\n",
    "import pyvista as pv\n",
    "pv.set_jupyter_backend('static')\n",
    "try:\n",
    "    import ArchPy\n",
    "except: # if ArchPy is not installed\n",
    "    print(\"ArchPy not installed\")\n",
    "    sys.path.append(\"../..\")\n",
    "    import ArchPy\n",
    "\n",
    "\n",
    "from ArchPy.base import Unit, Facies, Prop, Pile, Arch_table, Surface"
   ]
  },
  {
   "cell_type": "markdown",
   "metadata": {},
   "source": [
    "## Project and grid"
   ]
  },
  {
   "cell_type": "code",
   "execution_count": 2,
   "metadata": {},
   "outputs": [
    {
     "name": "stdout",
     "output_type": "stream",
     "text": [
      "## Adding Grid ##\n",
      "## Grid added and is now simulation grid ##\n"
     ]
    }
   ],
   "source": [
    "T1 = Arch_table(name = \"Hierarchy_is_fun\", working_directory=\"Hierarch\", seed = 10)\n",
    "\n",
    "sx = 1\n",
    "sy = 1\n",
    "sz = 1\n",
    "nx = 250\n",
    "ny = 250\n",
    "nz = 50\n",
    "ox = 0\n",
    "oy = 0\n",
    "oz = 0\n",
    "dimensions = (nx, ny, nz)\n",
    "spacing = (sx, sy, sz)\n",
    "origin = (ox, oy, oz)\n",
    "\n",
    "T1.add_grid(dimensions, spacing, origin) #adding the grid"
   ]
  },
  {
   "cell_type": "markdown",
   "metadata": {},
   "source": [
    "This exemple is purely technical and have no other purpose to test ArchPy capabilities.\n",
    "\n",
    "ArchPy can then simulate sub-units inside other bigger units by setting the ``f_method`` (in unit ``dic_facies``) to ``SubPile``. **It is then necessary to provide an ArchPy ``Pile`` object in the ``dic_facies``**.\n",
    "Below are many different examples with various hierarchical level."
   ]
  },
  {
   "cell_type": "markdown",
   "metadata": {},
   "source": [
    "## Let's create a lot of units, sub-units, ..."
   ]
  },
  {
   "cell_type": "markdown",
   "metadata": {},
   "source": [
    "### C unit"
   ]
  },
  {
   "cell_type": "code",
   "execution_count": 3,
   "metadata": {},
   "outputs": [
    {
     "name": "stdout",
     "output_type": "stream",
     "text": [
      "Unit C322: Surface added for interpolation\n",
      "Unit C321: Surface added for interpolation\n",
      "Stratigraphic unit C322 added\n",
      "Stratigraphic unit C321 added\n",
      "Unit C32: Surface added for interpolation\n",
      "Unit C31: Surface added for interpolation\n",
      "Stratigraphic unit C32 added\n",
      "Stratigraphic unit C31 added\n",
      "Unit C12: Surface added for interpolation\n",
      "Unit C11: Surface added for interpolation\n",
      "Stratigraphic unit C12 added\n",
      "Stratigraphic unit C11 added\n",
      "Unit C3: Surface added for interpolation\n",
      "Unit C2: Surface added for interpolation\n",
      "Unit C1: Surface added for interpolation\n",
      "Stratigraphic unit C3 added\n",
      "Stratigraphic unit C2 added\n",
      "Stratigraphic unit C1 added\n",
      "Unit C: Surface added for interpolation\n"
     ]
    }
   ],
   "source": [
    "#Let's use the same covmodels for all units for simplicity\n",
    "cm = gcm.CovModel2D(elem=[(\"cubic\", {\"w\":5,\"r\":[55,55]})])\n",
    "\n",
    "\n",
    "#SubPile C32\n",
    "C322 = Unit(\"C322\",order=1,color=(0,0.3,0.4,0.2), surface=Surface(),ID=20)\n",
    "C321 = Unit(\"C321\",order=2,color=(0,0.2,0.3,0.2),\n",
    "            surface=Surface(name=\"SC321\",contact=\"erode\", dic_surf={'int_method': 'grf_ineq', 'covmodel': cm, \"mean\":48.5}), ID=21\n",
    "           )\n",
    "\n",
    "PC32 = Pile(\"C32\")\n",
    "PC32.add_unit([C322,C321])\n",
    "\n",
    "#Subpile C3\n",
    "C32 = Unit(\"C32\",order=1,color=(0,0.3,0.4,0.5), surface=Surface(),ID=7,dic_facies={\"f_method\":\"SubPile\", \"SubPile\":PC32}\n",
    "         )\n",
    "C31 = Unit(\"C31\",order=2,color=(0,0.3,0.3,0.5), \n",
    "           surface=Surface(name=\"SC31\", contact=\"erode\", dic_surf={'int_method': 'grf_ineq', 'covmodel': cm, \"mean\":47}),\n",
    "           ID=8\n",
    "         )\n",
    "\n",
    "\n",
    "PC3 = Pile(\"PC3\")\n",
    "PC3.add_unit([C32, C31])\n",
    "\n",
    "\n",
    "#SubPile C1\n",
    "C12 = Unit(\"C12\",order=1,color=(0,0.4,0.5,0.5), surface=Surface(),ID=9\n",
    "         )\n",
    "C11 = Unit(\"C11\",order=2,color=(0,0.5,0.3,0.5), \n",
    "           surface=Surface(name=\"SC11\", contact=\"erode\", dic_surf={'int_method': 'grf_ineq', 'covmodel': cm, \"mean\":36}),\n",
    "           ID=10\n",
    "         )\n",
    "\n",
    "PC1 = Pile(\"PC1\")\n",
    "PC1.add_unit([C12, C11])\n",
    "\n",
    "\n",
    "#subpile C\n",
    "C3 = Unit(\"C3\",order=1,color=(0,0.3,0.3,0.8), surface=Surface(),ID=4,dic_facies={\"f_method\":\"SubPile\", \"SubPile\":PC3}\n",
    "         )\n",
    "C2 = Unit(\"C2\", order=2, color = (0,0.3,0.5,0.8),\n",
    "          surface=Surface(name=\"SC2\", contact=\"erode\", dic_surf={'int_method': 'grf_ineq', 'covmodel': cm, \"mean\":45}),\n",
    "          ID = 5\n",
    "         )\n",
    "C1 = Unit(\"C1\", order=3, color = (0,0.5,0.3,0.8),\n",
    "          surface=Surface(name=\"SC1\", contact=\"erode\", dic_surf={'int_method': 'grf_ineq', 'covmodel': cm, \"mean\":39}),\n",
    "          ID = 6,\n",
    "          dic_facies={\"f_method\":\"SubPile\", \"SubPile\":PC1}\n",
    "         )\n",
    "PC = Pile(name=\"PC\")\n",
    "PC.add_unit([C3, C2, C1])\n",
    "\n",
    "\n",
    "C = Unit(\"C\",order=1,color=(0,0,0.3,1), surface=Surface(),ID=1,dic_facies={\"f_method\":\"SubPile\", \"SubPile\":PC})"
   ]
  },
  {
   "cell_type": "markdown",
   "metadata": {},
   "source": [
    "### B unit"
   ]
  },
  {
   "cell_type": "code",
   "execution_count": 4,
   "metadata": {},
   "outputs": [
    {
     "name": "stdout",
     "output_type": "stream",
     "text": [
      "Unit B4: Surface added for interpolation\n",
      "Unit B3: Surface added for interpolation\n",
      "Unit B2: Surface added for interpolation\n",
      "Unit B1: Surface added for interpolation\n",
      "Stratigraphic unit B4 added\n",
      "Stratigraphic unit B3 added\n",
      "Stratigraphic unit B2 added\n",
      "Stratigraphic unit B1 added\n",
      "Unit B: Surface added for interpolation\n"
     ]
    }
   ],
   "source": [
    "#SubPile PB\n",
    "B4 = Unit(\"B4\", order=1, color = (0.5,0.8,0,0.8), surface=Surface(),ID = 11)\n",
    "B3 = Unit(\"B3\", order=2, color = (0.2,0.8,0,0.8),\n",
    "          surface=Surface(name=\"SB3\", contact=\"erode\", dic_surf={'int_method': 'grf_ineq', 'covmodel': cm, \"mean\":29}),\n",
    "          ID = 12\n",
    "         )\n",
    "B2 = Unit(\"B2\", order=3, color = (0,0.5,0,0.8),\n",
    "          surface=Surface(name=\"SB2\", contact=\"erode\", dic_surf={'int_method': 'grf_ineq', 'covmodel': cm, \"mean\":25}),\n",
    "          ID = 13\n",
    "         )\n",
    "B1 = Unit(\"B1\", order=4, color = (0,0.8,0,0.8),\n",
    "          surface=Surface(name=\"SB1\", contact=\"erode\", dic_surf={'int_method': 'grf_ineq', 'covmodel': cm, \"mean\":21}),\n",
    "          ID = 14\n",
    "         )\n",
    "\n",
    "PB = Pile(\"PB\")\n",
    "PB.add_unit([B4,B3,B2,B1])\n",
    "\n",
    "#unit B\n",
    "B = Unit(\"B\", order=2, color=(0,0.3,0,1),\n",
    "         surface=Surface(name=\"SB\", contact=\"erode\", dic_surf={'int_method': 'grf_ineq', 'covmodel': cm, \"mean\":33}),\n",
    "         ID=2,\n",
    "         dic_facies={\"f_method\":\"SubPile\", \"SubPile\":PB}\n",
    "        )"
   ]
  },
  {
   "cell_type": "markdown",
   "metadata": {},
   "source": [
    "### A unit"
   ]
  },
  {
   "cell_type": "code",
   "execution_count": 5,
   "metadata": {},
   "outputs": [
    {
     "name": "stdout",
     "output_type": "stream",
     "text": [
      "Unit A13: Surface added for interpolation\n",
      "Unit A12: Surface added for interpolation\n",
      "Unit A11: Surface added for interpolation\n",
      "Stratigraphic unit A13 added\n",
      "Stratigraphic unit A12 added\n",
      "Stratigraphic unit A11 added\n",
      "Unit A2: Surface added for interpolation\n",
      "Unit A1: Surface added for interpolation\n",
      "Stratigraphic unit A2 added\n",
      "Stratigraphic unit A1 added\n",
      "Unit A: Surface added for interpolation\n"
     ]
    }
   ],
   "source": [
    "#Subpile PA1\n",
    "A13 = Unit(\"A13\", order=1, color=(0.4,0.4,0.4,0.4), surface=Surface(), ID = 17)\n",
    "A12 = Unit(\"A12\", order=2, color=(0.25,0.25,0.25,0.25),\n",
    "         surface=Surface(name=\"SA12\", contact=\"erode\", dic_surf={'int_method': 'grf_ineq', 'covmodel': cm, \"mean\":5}),\n",
    "         ID=18\n",
    "        )\n",
    "A11 = Unit(\"A11\", order=2, color=(0.05,0.05,0.05,0.05),\n",
    "         surface=Surface(name=\"SA11\", contact=\"erode\", dic_surf={'int_method': 'grf_ineq', 'covmodel': cm, \"mean\":2}),\n",
    "         ID=19\n",
    "        )\n",
    "\n",
    "PA1 = Pile(\"PA1\")\n",
    "PA1.add_unit([A13,A12,A11])\n",
    "\n",
    "# subpile PA\n",
    "A2 = Unit(\"A2\", order=1, color=(0.8,0.8,0.8,0.8), surface=Surface(), ID = 15)\n",
    "A1 = Unit(\"A1\", order=2, color=(0.6,0.6,0.6,0.6),\n",
    "         surface=Surface(name=\"SA1\", contact=\"erode\", dic_surf={'int_method': 'grf_ineq', 'covmodel': cm, \"mean\":8}),\n",
    "         ID=16,\n",
    "         dic_facies={\"f_method\":\"SubPile\", \"SubPile\":PA1}\n",
    "        )\n",
    "\n",
    "PA = Pile(\"PA\")\n",
    "PA.add_unit([A2,A1])\n",
    "\n",
    "A = Unit(\"A\", order=3, color=\"black\",\n",
    "         surface=Surface(name=\"SA\", contact=\"erode\", dic_surf={'int_method': 'grf_ineq', 'covmodel': cm, \"mean\":17}),\n",
    "         ID=3,\n",
    "         dic_facies={\"f_method\":\"SubPile\", \"SubPile\":PA}\n",
    "        )\n"
   ]
  },
  {
   "cell_type": "code",
   "execution_count": 6,
   "metadata": {},
   "outputs": [
    {
     "name": "stdout",
     "output_type": "stream",
     "text": [
      "Stratigraphic unit C added\n",
      "Stratigraphic unit B added\n",
      "Stratigraphic unit A added\n",
      "Pile sets as Pile master\n"
     ]
    }
   ],
   "source": [
    "P1 = Pile(name = \"Master_pile\")\n",
    "P1.add_unit([C,B,A])\n",
    "\n",
    "T1.set_Pile_master(P1)"
   ]
  },
  {
   "cell_type": "code",
   "execution_count": 7,
   "metadata": {},
   "outputs": [
    {
     "name": "stdout",
     "output_type": "stream",
     "text": [
      "##### ORDERING UNITS ##### \n",
      "Pile Master_pile: ordering units\n",
      "Stratigraphic units have been sorted according to order\n",
      "Pile PC: ordering units\n",
      "Stratigraphic units have been sorted according to order\n",
      "Pile PC3: ordering units\n",
      "Stratigraphic units have been sorted according to order\n",
      "Pile C32: ordering units\n",
      "Stratigraphic units have been sorted according to order\n",
      "Pile PC1: ordering units\n",
      "Stratigraphic units have been sorted according to order\n",
      "Pile PB: ordering units\n",
      "Stratigraphic units have been sorted according to order\n",
      "Pile PA: ordering units\n",
      "Stratigraphic units have been sorted according to order\n",
      "Pile PA1: ordering units\n",
      "Stratigraphic units have been sorted according to order\n",
      "units A11 and A12 have the same order\n",
      "Changing orders for that they range from 1 to n\n",
      "hierarchical relations set\n",
      "No borehole found - no hd extracted\n"
     ]
    }
   ],
   "source": [
    "T1.process_bhs()"
   ]
  },
  {
   "cell_type": "code",
   "execution_count": 8,
   "metadata": {
    "scrolled": true
   },
   "outputs": [
    {
     "name": "stdout",
     "output_type": "stream",
     "text": [
      "Boreholes not processed, fully unconditional simulations will be tempted\n",
      "########## PILE Master_pile ##########\n",
      "Pile Master_pile: ordering units\n",
      "Stratigraphic units have been sorted according to order\n",
      "\n",
      "#### COMPUTING SURFACE OF UNIT A\n",
      "A: time elapsed for computing surface 0.3705775737762451 s\n",
      "\n",
      "#### COMPUTING SURFACE OF UNIT B\n",
      "B: time elapsed for computing surface 0.28000783920288086 s\n",
      "\n",
      "#### COMPUTING SURFACE OF UNIT C\n",
      "C: time elapsed for computing surface 0.0 s\n",
      "\n",
      "Time elapsed for getting domains 1.2658941745758057 s\n",
      "##########################\n",
      "\n",
      "########## PILE PC ##########\n",
      "Pile PC: ordering units\n",
      "Stratigraphic units have been sorted according to order\n",
      "\n",
      "#### COMPUTING SURFACE OF UNIT C1\n",
      "C1: time elapsed for computing surface 0.41042447090148926 s\n",
      "\n",
      "#### COMPUTING SURFACE OF UNIT C2\n",
      "C2: time elapsed for computing surface 0.44786643981933594 s\n",
      "\n",
      "#### COMPUTING SURFACE OF UNIT C3\n",
      "C3: time elapsed for computing surface 0.0 s\n",
      "\n",
      "Time elapsed for getting domains 1.7426025867462158 s\n",
      "##########################\n",
      "\n",
      "########## PILE PC3 ##########\n",
      "Pile PC3: ordering units\n",
      "Stratigraphic units have been sorted according to order\n",
      "\n",
      "#### COMPUTING SURFACE OF UNIT C31\n",
      "C31: time elapsed for computing surface 0.4670109748840332 s\n",
      "\n",
      "#### COMPUTING SURFACE OF UNIT C32\n",
      "C32: time elapsed for computing surface 0.0 s\n",
      "\n",
      "Time elapsed for getting domains 0.924119234085083 s\n",
      "##########################\n",
      "\n",
      "########## PILE C32 ##########\n",
      "Pile C32: ordering units\n",
      "Stratigraphic units have been sorted according to order\n",
      "\n",
      "#### COMPUTING SURFACE OF UNIT C321\n",
      "C321: time elapsed for computing surface 0.5125689506530762 s\n",
      "\n",
      "#### COMPUTING SURFACE OF UNIT C322\n",
      "C322: time elapsed for computing surface 0.0 s\n",
      "\n",
      "Time elapsed for getting domains 1.050994873046875 s\n",
      "##########################\n",
      "\n",
      "########## PILE PC1 ##########\n",
      "Pile PC1: ordering units\n",
      "Stratigraphic units have been sorted according to order\n",
      "\n",
      "#### COMPUTING SURFACE OF UNIT C11\n",
      "C11: time elapsed for computing surface 0.4125690460205078 s\n",
      "\n",
      "#### COMPUTING SURFACE OF UNIT C12\n",
      "C12: time elapsed for computing surface 0.0 s\n",
      "\n",
      "Time elapsed for getting domains 0.6179418563842773 s\n",
      "##########################\n",
      "\n",
      "########## PILE PB ##########\n",
      "Pile PB: ordering units\n",
      "Stratigraphic units have been sorted according to order\n",
      "\n",
      "#### COMPUTING SURFACE OF UNIT B1\n",
      "B1: time elapsed for computing surface 0.33802008628845215 s\n",
      "\n",
      "#### COMPUTING SURFACE OF UNIT B2\n",
      "B2: time elapsed for computing surface 0.4329655170440674 s\n",
      "\n",
      "#### COMPUTING SURFACE OF UNIT B3\n",
      "B3: time elapsed for computing surface 0.3593637943267822 s\n",
      "\n",
      "#### COMPUTING SURFACE OF UNIT B4\n",
      "B4: time elapsed for computing surface 0.0 s\n",
      "\n",
      "Time elapsed for getting domains 2.046572685241699 s\n",
      "##########################\n",
      "\n",
      "########## PILE PA ##########\n",
      "Pile PA: ordering units\n",
      "Stratigraphic units have been sorted according to order\n",
      "\n",
      "#### COMPUTING SURFACE OF UNIT A1\n",
      "A1: time elapsed for computing surface 0.3389911651611328 s\n",
      "\n",
      "#### COMPUTING SURFACE OF UNIT A2\n",
      "A2: time elapsed for computing surface 0.0 s\n",
      "\n",
      "Time elapsed for getting domains 0.4490165710449219 s\n",
      "##########################\n",
      "\n",
      "########## PILE PA1 ##########\n",
      "Pile PA1: ordering units\n",
      "Stratigraphic units have been sorted according to order\n",
      "\n",
      "#### COMPUTING SURFACE OF UNIT A11\n",
      "A11: time elapsed for computing surface 0.13599586486816406 s\n",
      "\n",
      "#### COMPUTING SURFACE OF UNIT A12\n",
      "A12: time elapsed for computing surface 0.2899951934814453 s\n",
      "\n",
      "#### COMPUTING SURFACE OF UNIT A13\n",
      "A13: time elapsed for computing surface 0.0 s\n",
      "\n",
      "Time elapsed for getting domains 0.6084983348846436 s\n",
      "##########################\n",
      "\n",
      "\n",
      "### 14.555571794509888: Total time elapsed for computing surfaces ###\n"
     ]
    }
   ],
   "source": [
    "T1.compute_surf(1)"
   ]
  },
  {
   "cell_type": "markdown",
   "metadata": {},
   "source": [
    "Note : Pyvista does not support rgba code, this explains the difference between the colors of the pyvsita plot and mtplotlib"
   ]
  },
  {
   "cell_type": "code",
   "execution_count": 9,
   "metadata": {
    "tags": [
     "nbsphinx-thumbnail"
    ]
   },
   "outputs": [
    {
     "data": {
      "image/png": "[encoded data removed]",
      "text/plain": [
       "<PIL.Image.Image image mode=RGB size=1024x768>"
      ]
     },
     "metadata": {},
     "output_type": "display_data"
    }
   ],
   "source": [
    "T1.plot_units(h_level=2)"
   ]
  },
  {
   "cell_type": "code",
   "execution_count": 10,
   "metadata": {},
   "outputs": [
    {
     "data": {
      "image/png": "[encoded data removed]",
      "text/plain": [
       "<Figure size 1000x1000 with 1 Axes>"
      ]
     },
     "metadata": {},
     "output_type": "display_data"
    }
   ],
   "source": [
    "T1.plot_cross_section([(0,0),(100,200)],ratio_aspect=5)"
   ]
  }
 ],
 "metadata": {
  "celltoolbar": "Tags",
  "kernelspec": {
   "display_name": "Python 3 (ipykernel)",
   "language": "python",
   "name": "python3"
  },
  "language_info": {
   "codemirror_mode": {
    "name": "ipython",
    "version": 3
   },
   "file_extension": ".py",
   "mimetype": "text/x-python",
   "name": "python",
   "nbconvert_exporter": "python",
   "pygments_lexer": "ipython3",
   "version": "3.11.5"
  }
 },
 "nbformat": 4,
 "nbformat_minor": 2
}
