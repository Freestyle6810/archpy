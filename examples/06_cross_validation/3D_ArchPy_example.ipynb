{
 "cells": [
  {
   "cell_type": "code",
   "execution_count": 2,
   "metadata": {},
   "outputs": [],
   "source": [
    "import numpy as np\n",
    "import matplotlib\n",
    "from matplotlib import colors\n",
    "import matplotlib.pyplot as plt\n",
    "import geone\n",
    "import geone.covModel as gcm\n",
    "import geone.imgplot3d as imgplt3\n",
    "import pyvista as pv\n",
    "import sys\n",
    "\n",
    "sys.path.append(\"../../\")\n",
    "#my modules\n",
    "from ArchPy.base import *\n",
    "from ArchPy.tpgs import *"
   ]
  },
  {
   "cell_type": "code",
   "execution_count": 3,
   "metadata": {},
   "outputs": [],
   "source": [
    "PD = Pile(name = \"PD\", seed = 10)\n",
    "PB = Pile(name = \"PB\",seed=1)\n",
    "P1 = Pile(name = \"P1\",seed=1)"
   ]
  },
  {
   "cell_type": "code",
   "execution_count": 4,
   "metadata": {},
   "outputs": [],
   "source": [
    "#grid\n",
    "sx = 0.15\n",
    "sy = 0.15\n",
    "sz = .15\n",
    "x1 = 20\n",
    "y1 = 10\n",
    "z1 = -6\n",
    "x0 = 0\n",
    "y0 = 0\n",
    "z0 = -15\n",
    "nx = 133\n",
    "ny = 67\n",
    "nz = 62\n",
    "\n",
    "\n",
    "dimensions = (nx, ny, nz)\n",
    "spacing = (sx, sy, sz)\n",
    "origin = (x0, y0, z0)  "
   ]
  },
  {
   "cell_type": "code",
   "execution_count": 5,
   "metadata": {},
   "outputs": [
    {
     "name": "stdout",
     "output_type": "stream",
     "text": [
      "Unit D: Surface added for interpolation\n",
      "Unit C: covmodel for SIS added\n",
      "Unit C: Surface added for interpolation\n",
      "Unit B: Surface added for interpolation\n",
      "Unit A: Surface added for interpolation\n",
      "Stratigraphic unit D added\n",
      "Stratigraphic unit C added\n",
      "Stratigraphic unit B added\n",
      "Stratigraphic unit A added\n",
      "Unit B3: covmodel for SIS added\n",
      "Unit B3: Surface added for interpolation\n",
      "Unit B2: covmodel for SIS added\n",
      "Unit B2: Surface added for interpolation\n",
      "Unit B1: covmodel for SIS added\n",
      "Unit B1: Surface added for interpolation\n",
      "Stratigraphic unit B3 added\n",
      "Stratigraphic unit B2 added\n",
      "Stratigraphic unit B1 added\n",
      "Unit D2: covmodel for SIS added\n",
      "Unit D2: Surface added for interpolation\n",
      "Unit D1: covmodel for SIS added\n",
      "Unit D1: Surface added for interpolation\n",
      "Stratigraphic unit D2 added\n",
      "Stratigraphic unit D1 added\n"
     ]
    }
   ],
   "source": [
    "#units covmodel\n",
    "covmodelD = gcm.CovModel2D(elem=[('cubic', {'w':0.6, 'r':[6,6]})])\n",
    "covmodelD1 = gcm.CovModel2D(elem=[('cubic', {'w':0.2, 'r':[6,6]})])\n",
    "covmodelC = gcm.CovModel2D(elem=[('cubic', {'w':0.2, 'r':[8,8]})])\n",
    "covmodelB = gcm.CovModel2D(elem=[('cubic', {'w':0.6, 'r':[6,6]})])\n",
    "covmodel_er = gcm.CovModel2D(elem=[('spherical', {'w':1, 'r':[10,10]})])\n",
    "\n",
    "## facies covmodel\n",
    "covmodel_SIS_C = gcm.CovModel3D(elem=[(\"exponential\",{\"w\":.25,\"r\":[10,10,3]})],alpha=0,name=\"vario_SIS\") # input variogram\n",
    "covmodel_SIS_D = gcm.CovModel3D(elem=[(\"exponential\",{\"w\":.25,\"r\":[5,5,5]})],alpha=0,name=\"vario_SIS\") # input variogram\n",
    "lst_covmodelC=[covmodel_SIS_C] # list of covmodels to pass at the function\n",
    "lst_covmodelD=[covmodel_SIS_D]\n",
    "\n",
    "\n",
    "#create Lithologies \n",
    "dic_s_D = {\"int_method\" : \"grf_ineq\",\"covmodel\" : covmodelD}\n",
    "dic_f_D = {\"f_method\":\"SubPile\", \"SubPile\": PD}\n",
    "D = Unit(name=\"D\",order=1,ID = 1,color=\"gold\",contact=\"onlap\",surface=Surface(contact=\"onlap\",dic_surf=dic_s_D)\n",
    "         ,dic_facies=dic_f_D)\n",
    "\n",
    "dic_s_C = {\"int_method\" : \"nearest\",\"covmodel\" : covmodelC}\n",
    "dic_f_C = {\"f_method\" : \"SIS\",\"neig\" : 10,\"f_covmodel\":covmodel_SIS_C}\n",
    "C = Unit(name=\"C\",order=2,ID = 2,color=\"blue\",contact=\"onlap\",dic_facies=dic_f_C,surface=Surface(dic_surf=dic_s_C,contact=\"onlap\"))\n",
    "\n",
    "dic_s_B = {\"int_method\" : \"grf_ineq\",\"covmodel\" : covmodelB}\n",
    "dic_f_B = {\"f_method\":\"SubPile\",\"SubPile\":PB}\n",
    "B = Unit(name=\"B\",order=3,ID = 3,color=\"purple\",contact=\"onlap\",dic_facies=dic_f_B,surface=Surface(contact=\"onlap\",dic_surf=dic_s_B))\n",
    "\n",
    "dic_s_A = {\"int_method\":\"grf_ineq\",\"covmodel\": covmodelB}\n",
    "dic_f_A = {\"f_method\":\"homogenous\"}\n",
    "A = Unit(name=\"A\",order=5,ID = 5,color=\"red\",contact=\"onlap\",dic_facies=dic_f_A,surface=Surface(dic_surf = dic_s_A,contact=\"onlap\"))\n",
    "\n",
    "#Master pile\n",
    "P1.add_unit([D,C,B,A])\n",
    "\n",
    "# PB\n",
    "ds_B3 = {\"int_method\":\"grf_ineq\",\"covmodel\":covmodelB}\n",
    "df_B3 = {\"f_method\":\"SIS\", \"neig\" : 10,\"f_covmodel\":covmodel_SIS_D}\n",
    "B3 = Unit(name = \"B3\",order=1,ID = 6,color=\"forestgreen\",surface=Surface(dic_surf=ds_B3,contact=\"onlap\"),dic_facies=df_B3)\n",
    "\n",
    "ds_B2 = {\"int_method\":\"grf_ineq\",\"covmodel\":covmodelB}\n",
    "df_B2 = {\"f_method\":\"SIS\",\"neig\" : 10,\"f_covmodel\":covmodel_SIS_D}\n",
    "B2 = Unit(name = \"B2\",order=2,ID = 7,color=\"limegreen\",surface=Surface(dic_surf=ds_B2,contact=\"erode\"),dic_facies=df_B2)\n",
    "\n",
    "ds_B1 = {\"int_method\":\"grf_ineq\",\"covmodel\":covmodelB}\n",
    "df_B1 = {\"f_method\":\"SIS\",\"neig\" : 10,\"f_covmodel\":covmodel_SIS_D}\n",
    "B1 = Unit(name = \"B1\",order=3, ID = 8,color=\"palegreen\",surface=Surface(dic_surf=ds_B1,contact=\"onlap\"),dic_facies=df_B1)\n",
    "\n",
    "## Subpile\n",
    "PB.add_unit([B3,B2,B1])\n",
    "\n",
    "\n",
    "# PD\n",
    "ds_D2 = {\"int_method\":\"grf_ineq\",\"covmodel\":covmodelD1}\n",
    "df_D2 = {\"f_method\":\"SIS\",\"neig\" : 20,\"f_covmodel\":covmodel_SIS_D}\n",
    "D2 = Unit(name = \"D2\", order=1, ID = 9,color=\"darkgoldenrod\",surface=Surface(dic_surf=ds_D2,contact=\"onlap\"),dic_facies=df_D2)\n",
    "\n",
    "ds_D1 = {\"int_method\":\"grf_ineq\",\"covmodel\":covmodelD1}\n",
    "df_D1 = {\"f_method\":\"SIS\",\"neig\" : 20,\"f_covmodel\":covmodel_SIS_D}\n",
    "D1 = Unit(name = \"D1\", order=2, ID = 10,color=\"yellow\",surface=Surface(dic_surf=ds_D1,contact=\"onlap\"),dic_facies=df_D1)\n",
    "\n",
    "PD.add_unit([D2, D1])"
   ]
  },
  {
   "cell_type": "code",
   "execution_count": 6,
   "metadata": {},
   "outputs": [
    {
     "name": "stdout",
     "output_type": "stream",
     "text": [
      "Facies basement added to unit A\n",
      "Facies Sand added to unit B\n",
      "Facies Gravel added to unit B\n",
      "Facies GM added to unit B\n",
      "Facies SM added to unit B\n",
      "Facies Sand added to unit D\n",
      "Facies Gravel added to unit D\n",
      "Facies GM added to unit D\n",
      "Facies SM added to unit D\n",
      "Facies Clay added to unit C\n",
      "Facies Silt added to unit C\n",
      "Facies Sand added to unit B3\n",
      "Facies Gravel added to unit B3\n",
      "Facies GM added to unit B3\n",
      "Facies SM added to unit B3\n",
      "Facies Sand added to unit B2\n",
      "Facies Gravel added to unit B2\n",
      "Facies GM added to unit B2\n",
      "Facies SM added to unit B2\n",
      "Facies Sand added to unit B1\n",
      "Facies Gravel added to unit B1\n",
      "Facies GM added to unit B1\n",
      "Facies SM added to unit B1\n",
      "Facies Sand added to unit D2\n",
      "Facies Gravel added to unit D2\n",
      "Facies GM added to unit D2\n",
      "Facies SM added to unit D2\n",
      "Facies Sand added to unit D1\n",
      "Facies Gravel added to unit D1\n",
      "Facies GM added to unit D1\n",
      "Facies SM added to unit D1\n"
     ]
    }
   ],
   "source": [
    "# covmodels for the property model\n",
    "covmodelK = gcm.CovModel3D(elem=[(\"exponential\",{\"w\":0.3,\"r\":[5,5,1]})],alpha=-20,name=\"K_vario\")\n",
    "covmodelK2 = gcm.CovModel3D(elem=[(\"spherical\",{\"w\":0.1,\"r\":[3,3,1]})],alpha=0,name=\"K_vario_2\")\n",
    "covmodelPoro = gcm.CovModel3D(elem=[(\"exponential\",{\"w\":0.005,\"r\":[10,10,10]})],alpha=0,name=\"poro_vario\")\n",
    "\n",
    "facies_1 = Facies(ID = 1,name=\"Sand\",color=\"yellow\")\n",
    "facies_2 = Facies(ID = 2,name=\"Gravel\",color=\"lightgreen\")\n",
    "facies_3 = Facies(ID = 3,name=\"GM\",color=\"blueviolet\")\n",
    "facies_4 = Facies(ID = 4,name=\"Clay\",color=\"blue\")\n",
    "facies_5 = Facies(ID = 5,name=\"SM\",color=\"brown\")\n",
    "facies_6 = Facies(ID = 6,name=\"Silt\",color=\"goldenrod\")\n",
    "facies_7 = Facies(ID = 7,name=\"basement\",color=\"red\")\n",
    "\n",
    "A.add_facies([facies_7])\n",
    "B.add_facies([facies_1,facies_2,facies_3,facies_5])\n",
    "D.add_facies([facies_1,facies_2,facies_3,facies_5])\n",
    "C.add_facies([facies_4,facies_6])\n",
    "\n",
    "#add same facies than B\n",
    "for b in PB.list_units:\n",
    "    b.add_facies(B.list_facies)\n",
    "\n",
    "#same for D\n",
    "for d in PD.list_units:\n",
    "    d.add_facies(D.list_facies)\n",
    "    \n",
    "permea = Prop(\"K\",[facies_1,facies_2,facies_3,facies_4,facies_5,facies_6,facies_7],\n",
    "                  [covmodelK2,covmodelK,covmodelK,None,covmodelK2,covmodelK,None],\n",
    "                  means=[-3.5,-2,-4.5,-8,-5.5,-6.5,-10],\n",
    "                  int_method = [\"sgs\",\"sgs\",\"sgs\",\"homogenous\",\"sgs\",\"sgs\",\"homogenous\"],\n",
    "                  def_mean=-5)\n",
    "poro = Prop(\"Porosity\",\n",
    "            [facies_1,facies_3,facies_4],\n",
    "            [covmodelPoro,covmodelPoro,covmodelPoro],\n",
    "             means = [0.4,0.3,0.2],\n",
    "             int_method = [\"sgs\",\"sgs\",\"sgs\"],\n",
    "             def_mean=0.3,\n",
    "             vmin=0)"
   ]
  },
  {
   "cell_type": "code",
   "execution_count": 7,
   "metadata": {},
   "outputs": [],
   "source": [
    "top = np.ones([ny,nx])*-6\n",
    "bot = np.ones([ny,nx])*z0"
   ]
  },
  {
   "cell_type": "code",
   "execution_count": 8,
   "metadata": {},
   "outputs": [],
   "source": [
    "#logs strati\n",
    "log_strati1 = [(C,-6.01),(B3,-8),(B2,-9),(B1,-9.5),(A,-10)]\n",
    "log_strati2 = [(C,-6.01),(B3,-8.5),(B2,-9.5),(A,-10.5)]\n",
    "log_strati3 = [(D2,-6.01), (D1, -7), (B3,-8),(B2,-8.5),(B1,-9.5),(A,-10.5)]\n",
    "log_strati4 = [(D2,-6.01), (D1, -7), (B3,-9),(B2,-10),(A,-11)]\n",
    "log_strati5 = [(D2,-6.01), (D1, -7), (C,-10),(A,-12)]\n",
    "log_strati6 = [(D2,-6.01), (D1, -7), (A,-9)]\n",
    "\n",
    "# logs facies\n",
    "log_facies1 = [(facies_4,-6.01),(facies_6,-6.5),(facies_4,-7),(facies_6,-7.5), # facies in unit C\n",
    "               (facies_1,-8),(facies_5,-8.5),(facies_2,-9),(facies_3,-9.3),  # facies in unit B\n",
    "               (facies_7,-10)]\n",
    "log_facies2 = [(facies_4,-6.01),(facies_6,-7.3),(facies_4,-7.6),(facies_6,-8),\n",
    "               (facies_2,-8.5),(facies_1,-8.8),(facies_2,-9),(facies_3,-9.2),(facies_1,-10),\n",
    "               (facies_7,-10.5)]\n",
    "log_facies3 = [(facies_1,-6.015),(facies_2,-6.8),(facies_5,-7),(facies_3,-7.3),(facies_1,-7.5),\n",
    "               (facies_2,-8),(facies_1,-8.8),(facies_2,-9),(facies_3,-9.2),(facies_1,-10),\n",
    "              (facies_7,-10.5)]\n",
    "log_facies4 = [(facies_1,-6.01),(facies_2,-7.5),(facies_5,-7.8),(facies_3,-8),(facies_5,-8.3),(facies_1,-8.7),\n",
    "               (facies_2,-9),(facies_1,-10),(facies_2,-10.5),\n",
    "               (facies_7,-11)]\n",
    "log_facies5 = [(facies_5,-6.01),(facies_1,-7.5),(facies_3,-7.8),(facies_2,-8),(facies_1,-8.3),(facies_2,-8.7),(facies_1,-9),(facies_5,-9.5),\n",
    "               (facies_4,-10),(facies_6,-10.4),(facies_4,-11),\n",
    "               (facies_7,-12)]\n",
    "log_facies6 = [(facies_1,-6.01),(facies_2,-8.3),(facies_3,-8.5),(facies_2,-8.7),\n",
    "               (facies_7,-9)]\n",
    "\n",
    "#create boreholes\n",
    "bh1 = borehole(\"b1\",1,x=1,y=5,z=log_strati1[0][1],depth =9,log_strati=log_strati1,log_facies=log_facies1)\n",
    "bh2 = borehole(\"b2\",2,x=3,y=2,z=log_strati2[0][1],depth =8,log_strati=log_strati2,log_facies=log_facies2)\n",
    "bh3 = borehole(\"b3\",3,x=5,y=6,z=log_strati3[0][1],depth =7,log_strati=log_strati3,log_facies=log_facies3)\n",
    "bh4 = borehole(\"b4\",4,x=10,y=1,z=log_strati4[0][1],depth =8,log_strati=log_strati4,log_facies=log_facies4)\n",
    "bh5 = borehole(\"b5\",5,x=15,y=3,z=log_strati5[0][1],depth =8,log_strati=log_strati5,log_facies=log_facies5)\n",
    "bh6 = borehole(\"b6\",6,x=19,y=9,z=log_strati6[0][1],depth =6,log_strati=log_strati6,log_facies=log_facies6)"
   ]
  },
  {
   "cell_type": "code",
   "execution_count": 9,
   "metadata": {},
   "outputs": [
    {
     "data": {
      "text/plain": [
       "<matplotlib.image.AxesImage at 0x27fb0e04048>"
      ]
     },
     "execution_count": 9,
     "metadata": {},
     "output_type": "execute_result"
    },
    {
     "data": {
      "image/png": "[encoded data removed]",
      "text/plain": [
       "<Figure size 432x288 with 1 Axes>"
      ]
     },
     "metadata": {
      "needs_background": "light"
     },
     "output_type": "display_data"
    }
   ],
   "source": [
    "domain = np.ones([ny,nx],dtype=bool)\n",
    "domain[: 5]= 0\n",
    "domain[-5:] = 0\n",
    "plt.imshow(domain)"
   ]
  },
  {
   "cell_type": "code",
   "execution_count": 10,
   "metadata": {
    "scrolled": true
   },
   "outputs": [
    {
     "name": "stdout",
     "output_type": "stream",
     "text": [
      "Pile sets as Pile master\n",
      "## Adding Grid ##\n",
      "## Grid added and is now simulation grid ##\n",
      "boreholes removed\n",
      "Borehole 1 goes below model limits, borehole 1 depth cut\n",
      "Borehole 1 added\n",
      "Borehole 2 added\n",
      "Borehole 3 added\n",
      "Borehole 4 added\n",
      "Borehole 5 added\n",
      "Borehole 6 added\n",
      "Property K added\n"
     ]
    }
   ],
   "source": [
    "T1 = Arch_table(name = \"P1\",seed=1)\n",
    "T1.set_Pile_master(P1)\n",
    "T1.add_grid(dimensions, spacing, origin, top=top,bot=bot,polygon=domain)\n",
    "T1.rem_all_bhs()\n",
    "T1.add_bh([bh1,bh2,bh3,bh4,bh5,bh6])\n",
    "T1.add_prop([permea])"
   ]
  },
  {
   "cell_type": "code",
   "execution_count": 11,
   "metadata": {},
   "outputs": [
    {
     "name": "stdout",
     "output_type": "stream",
     "text": [
      "##### ORDERING UNITS ##### \n",
      "Pile P1: ordering units\n",
      "Stratigraphic units have been sorted according to order\n",
      "Discrepency in the orders for units A and B\n",
      "Changing orders for that they range from 1 to n\n",
      "Pile PD: ordering units\n",
      "Stratigraphic units have been sorted according to order\n",
      "Pile PB: ordering units\n",
      "Stratigraphic units have been sorted according to order\n"
     ]
    }
   ],
   "source": [
    "T1.order_Piles()"
   ]
  },
  {
   "cell_type": "code",
   "execution_count": 13,
   "metadata": {},
   "outputs": [
    {
     "name": "stdout",
     "output_type": "stream",
     "text": [
      "hierarchical relations set\n"
     ]
    }
   ],
   "source": [
    "T1.hierarchy_relations()"
   ]
  },
  {
   "cell_type": "code",
   "execution_count": 14,
   "metadata": {},
   "outputs": [],
   "source": [
    "import warnings\n",
    "warnings.filterwarnings(\"ignore\")"
   ]
  },
  {
   "cell_type": "code",
   "execution_count": 15,
   "metadata": {},
   "outputs": [
    {
     "data": {
      "application/vnd.jupyter.widget-view+json": {
       "model_id": "458d3843083641febd4c7ce229f79862",
       "version_major": 2,
       "version_minor": 0
      },
      "text/plain": [
       "ViewInteractiveWidget(height=768, layout=Layout(height='auto', width='100%'), width=1024)"
      ]
     },
     "metadata": {},
     "output_type": "display_data"
    }
   ],
   "source": [
    "T1.plot_bhs()"
   ]
  },
  {
   "cell_type": "code",
   "execution_count": 16,
   "metadata": {},
   "outputs": [],
   "source": [
    "# s=np.ones([1, 4, ny, nx])\n",
    "# s[:, 0]*=0\n",
    "# s[:, 1, :]*=np.linspace(-5, -12, nx)  # C\n",
    "# s[:, 2, :]*=np.linspace(-12, -6, nx)  # B\n",
    "# s[:, 3] = -14\n",
    "\n",
    "# sb=np.ones([1, 3, ny, nx])\n",
    "# sb[:, 0]*=-6\n",
    "# sb[:, 1]*=np.linspace(-7, -16, nx) \n",
    "# sb[:, 2]*=-12\n",
    "\n",
    "# sd = np.ones([1, 2, ny, nx])\n",
    "# sd[:, 0]*=-6\n",
    "# sd[:, 1]*=-7.2\n",
    "# surfaces={\"P1\":s, \"PB\":sb, \"PD\":sd}"
   ]
  },
  {
   "cell_type": "code",
   "execution_count": 17,
   "metadata": {},
   "outputs": [],
   "source": [
    "# T1.define_domains(surfaces)"
   ]
  },
  {
   "cell_type": "code",
   "execution_count": 18,
   "metadata": {
    "scrolled": false
   },
   "outputs": [],
   "source": [
    "# T1.plot_units()"
   ]
  },
  {
   "cell_type": "code",
   "execution_count": 19,
   "metadata": {},
   "outputs": [
    {
     "name": "stdout",
     "output_type": "stream",
     "text": [
      "##### ORDERING UNITS ##### \n",
      "Pile P1: ordering units\n",
      "Stratigraphic units have been sorted according to order\n",
      "Pile PD: ordering units\n",
      "Stratigraphic units have been sorted according to order\n",
      "Pile PB: ordering units\n",
      "Stratigraphic units have been sorted according to order\n",
      "hierarchical relations set\n",
      "First altitude in log facies of bh 3 is not set at the top of the borehole, altitude changed\n",
      "Processing ended successfully\n"
     ]
    }
   ],
   "source": [
    "T1.process_bhs()"
   ]
  },
  {
   "cell_type": "code",
   "execution_count": 20,
   "metadata": {},
   "outputs": [
    {
     "name": "stdout",
     "output_type": "stream",
     "text": [
      "########## PILE P1 ##########\n",
      "Pile P1: ordering units\n",
      "Stratigraphic units have been sorted according to order\n",
      "\n",
      "#### COMPUTING SURFACE OF UNIT A\n",
      "A: time elapsed for computing surface 0.008011579513549805 s\n",
      "\n",
      "#### COMPUTING SURFACE OF UNIT B\n",
      "B: time elapsed for computing surface 0.044851064682006836 s\n",
      "\n",
      "#### COMPUTING SURFACE OF UNIT C\n",
      "C: time elapsed for computing surface 0.07081031799316406 s\n",
      "\n",
      "#### COMPUTING SURFACE OF UNIT D\n",
      "D: time elapsed for computing surface 0.0 s\n",
      "\n",
      "Time elapsed for getting domains 1.2757325172424316 s\n",
      "##########################\n",
      "\n",
      "########## PILE PD ##########\n",
      "Pile PD: ordering units\n",
      "Stratigraphic units have been sorted according to order\n",
      "\n",
      "#### COMPUTING SURFACE OF UNIT D1\n",
      "D1: time elapsed for computing surface 0.007989883422851562 s\n",
      "\n",
      "#### COMPUTING SURFACE OF UNIT D2\n",
      "D2: time elapsed for computing surface 0.0 s\n",
      "\n",
      "Time elapsed for getting domains 0.011967897415161133 s\n",
      "##########################\n",
      "\n",
      "########## PILE PB ##########\n",
      "Pile PB: ordering units\n",
      "Stratigraphic units have been sorted according to order\n",
      "\n",
      "#### COMPUTING SURFACE OF UNIT B1\n",
      "B1: time elapsed for computing surface 0.043854713439941406 s\n",
      "\n",
      "#### COMPUTING SURFACE OF UNIT B2\n",
      "B2: time elapsed for computing surface 0.015958070755004883 s\n",
      "\n",
      "#### COMPUTING SURFACE OF UNIT B3\n",
      "B3: time elapsed for computing surface 0.0 s\n",
      "\n",
      "Time elapsed for getting domains 0.035903215408325195 s\n",
      "##########################\n",
      "\n",
      "\n",
      "### 1.5479650497436523: Total time elapsed for computing surfaces ###\n"
     ]
    }
   ],
   "source": [
    "T1.compute_surf(1)"
   ]
  },
  {
   "cell_type": "code",
   "execution_count": 21,
   "metadata": {},
   "outputs": [
    {
     "data": {
      "application/vnd.jupyter.widget-view+json": {
       "model_id": "1b17c6c0f965441180d8c2d646e0b670",
       "version_major": 2,
       "version_minor": 0
      },
      "text/plain": [
       "ViewInteractiveWidget(height=768, layout=Layout(height='auto', width='100%'), width=1024)"
      ]
     },
     "metadata": {},
     "output_type": "display_data"
    }
   ],
   "source": [
    "T1.plot_units(h_level=1)"
   ]
  },
  {
   "cell_type": "code",
   "execution_count": 22,
   "metadata": {},
   "outputs": [
    {
     "data": {
      "application/vnd.jupyter.widget-view+json": {
       "model_id": "dfd5a2dcb53c48d08233dd81c85f39c9",
       "version_major": 2,
       "version_minor": 0
      },
      "text/plain": [
       "ViewInteractiveWidget(height=768, layout=Layout(height='auto', width='100%'), width=1024)"
      ]
     },
     "metadata": {},
     "output_type": "display_data"
    }
   ],
   "source": [
    "p=pv.Plotter()\n",
    "\n",
    "T1.plot_bhs(plotter=p)\n",
    "T1.plot_units(iu=0, plotter=p, slicex=(0.15, 0.85), slicey=(0.2, 0.8))\n",
    "\n",
    "p.show()"
   ]
  },
  {
   "cell_type": "code",
   "execution_count": 23,
   "metadata": {},
   "outputs": [
    {
     "data": {
      "image/png": "[encoded data removed]",
      "text/plain": [
       "<Figure size 720x720 with 1 Axes>"
      ]
     },
     "metadata": {
      "needs_background": "light"
     },
     "output_type": "display_data"
    }
   ],
   "source": [
    "#cross section\n",
    "p1 = [1,1]\n",
    "p2 = [5,7]\n",
    "p3 = [15,9]\n",
    "T1.plot_cross_section([p1,p2,p3],iu=0,ratio_aspect=3)"
   ]
  },
  {
   "cell_type": "code",
   "execution_count": 24,
   "metadata": {},
   "outputs": [
    {
     "data": {
      "application/vnd.jupyter.widget-view+json": {
       "model_id": "2494811423bc4a898f26988cd46e8d69",
       "version_major": 2,
       "version_minor": 0
      },
      "text/plain": [
       "ViewInteractiveWidget(height=768, layout=Layout(height='auto', width='100%'), width=1024)"
      ]
     },
     "metadata": {},
     "output_type": "display_data"
    }
   ],
   "source": [
    "T1.plot_proba(C,v_ex=1)"
   ]
  },
  {
   "cell_type": "code",
   "execution_count": 25,
   "metadata": {
    "scrolled": true
   },
   "outputs": [
    {
     "name": "stdout",
     "output_type": "stream",
     "text": [
      "\n",
      "### Unit D: facies simulation with SubPile method ####\n",
      "SubPile filling method, nothing happened\n",
      "Time elapsed 0.0 s\n",
      "\n",
      "### Unit C: facies simulation with SIS method ####\n",
      "### Unit C - realization 0 ###\n",
      "Some errors have been found \n",
      "Some facies were found inside units where they shouldn't be \n",
      "\n",
      "### List of errors ####\n",
      "Facies basement: 1 points\n",
      "\n",
      "\n",
      "Only one facies covmodels for multiples facies, adapt sill to right proportions\n",
      "Geos-Classic running... [VERSION 2.0 / BUILD NUMBER 20220906 / OpenMP 7 thread(s)]\n",
      "Geos-Classic run complete\n",
      "Time elapsed 0.55 s\n",
      "\n",
      "### Unit B: facies simulation with SubPile method ####\n",
      "SubPile filling method, nothing happened\n",
      "Time elapsed 0.0 s\n",
      "\n",
      "### Unit A: facies simulation with homogenous method ####\n",
      "### Unit A - realization 0 ###\n",
      "Time elapsed 0.03 s\n",
      "\n",
      "### Unit D2: facies simulation with SIS method ####\n",
      "### Unit D2 - realization 0 ###\n",
      "Only one facies covmodels for multiples facies, adapt sill to right proportions\n",
      "Geos-Classic running... [VERSION 2.0 / BUILD NUMBER 20220906 / OpenMP 7 thread(s)]\n",
      "Geos-Classic run complete\n",
      "Time elapsed 1.32 s\n",
      "\n",
      "### Unit D1: facies simulation with SIS method ####\n",
      "### Unit D1 - realization 0 ###\n",
      "Only one facies covmodels for multiples facies, adapt sill to right proportions\n",
      "Geos-Classic running... [VERSION 2.0 / BUILD NUMBER 20220906 / OpenMP 7 thread(s)]\n",
      "Geos-Classic run complete\n",
      "Time elapsed 1.74 s\n",
      "\n",
      "### Unit B3: facies simulation with SIS method ####\n",
      "### Unit B3 - realization 0 ###\n",
      "Some errors have been found \n",
      "Some facies were found inside units where they shouldn't be \n",
      "\n",
      "### List of errors ####\n",
      "Facies Silt: 1 points\n",
      "\n",
      "\n",
      "Only one facies covmodels for multiples facies, adapt sill to right proportions\n",
      "Geos-Classic running... [VERSION 2.0 / BUILD NUMBER 20220906 / OpenMP 7 thread(s)]\n",
      "Geos-Classic run complete\n",
      "\n",
      "Warnings encountered (1 times in all):\n",
      "#  1: WARNING 00040: conditioning value(s) has(have) been removed (in the non-simulated part of the mask!)\n",
      "Time elapsed 0.83 s\n",
      "\n",
      "### Unit B2: facies simulation with SIS method ####\n",
      "### Unit B2 - realization 0 ###\n",
      "Only one facies covmodels for multiples facies, adapt sill to right proportions\n",
      "Geos-Classic running... [VERSION 2.0 / BUILD NUMBER 20220906 / OpenMP 7 thread(s)]\n",
      "Geos-Classic run complete\n",
      "\n",
      "Warnings encountered (1 times in all):\n",
      "#  1: WARNING 00040: conditioning value(s) has(have) been removed (in the non-simulated part of the mask!)\n",
      "Time elapsed 0.71 s\n",
      "\n",
      "### Unit B1: facies simulation with SIS method ####\n",
      "### Unit B1 - realization 0 ###\n",
      "Some errors have been found \n",
      "Some facies were found inside units where they shouldn't be \n",
      "\n",
      "### List of errors ####\n",
      "Facies basement: 1 points\n",
      "\n",
      "\n",
      "Only one facies covmodels for multiples facies, adapt sill to right proportions\n",
      "Geos-Classic running... [VERSION 2.0 / BUILD NUMBER 20220906 / OpenMP 7 thread(s)]\n",
      "Geos-Classic run complete\n",
      "Time elapsed 0.8 s\n",
      "\n",
      "### 5.98: Total time elapsed for computing facies ###\n"
     ]
    }
   ],
   "source": [
    "T1.compute_facies(1, verbose_methods=2)"
   ]
  },
  {
   "cell_type": "code",
   "execution_count": 26,
   "metadata": {},
   "outputs": [
    {
     "data": {
      "application/vnd.jupyter.widget-view+json": {
       "model_id": "ce847a5846724c3893af46418b35094b",
       "version_major": 2,
       "version_minor": 0
      },
      "text/plain": [
       "ViewInteractiveWidget(height=768, layout=Layout(height='auto', width='100%'), width=1024)"
      ]
     },
     "metadata": {},
     "output_type": "display_data"
    }
   ],
   "source": [
    "T1.plot_facies()"
   ]
  },
  {
   "cell_type": "code",
   "execution_count": 27,
   "metadata": {},
   "outputs": [
    {
     "data": {
      "application/vnd.jupyter.widget-view+json": {
       "model_id": "3ad2c814ea4c4be8bbad8b8e8f2133a9",
       "version_major": 2,
       "version_minor": 0
      },
      "text/plain": [
       "ViewInteractiveWidget(height=768, layout=Layout(height='auto', width='100%'), width=1024)"
      ]
     },
     "metadata": {},
     "output_type": "display_data"
    }
   ],
   "source": [
    "T1.plot_facies(0,0,inside_units=[D2])"
   ]
  },
  {
   "cell_type": "code",
   "execution_count": 28,
   "metadata": {},
   "outputs": [],
   "source": [
    "#prop hd\n",
    "\n",
    "ix = np.arange(0, nx*sx+0, sx)\n",
    "n = len(ix)\n",
    "x_hd = np.array((ix, np.ones(n)*5, np.ones(n)*-10)).T\n",
    "v = np.ones(n)*-1"
   ]
  },
  {
   "cell_type": "code",
   "execution_count": 29,
   "metadata": {},
   "outputs": [],
   "source": [
    "permea.x = None\n",
    "permea.v = None"
   ]
  },
  {
   "cell_type": "code",
   "execution_count": 30,
   "metadata": {},
   "outputs": [],
   "source": [
    "permea.add_hd(x_hd, v)"
   ]
  },
  {
   "cell_type": "code",
   "execution_count": 31,
   "metadata": {
    "scrolled": true
   },
   "outputs": [
    {
     "name": "stdout",
     "output_type": "stream",
     "text": [
      "### 1 K property models will be modeled ###\n",
      "homogenous method chosen ! Warning: Some HD can be not respected\n",
      "homogenous method chosen ! Warning: Some HD can be not respected\n",
      "### 1 K models done\n"
     ]
    }
   ],
   "source": [
    "T1.compute_prop(1)"
   ]
  },
  {
   "cell_type": "code",
   "execution_count": 32,
   "metadata": {},
   "outputs": [
    {
     "data": {
      "application/vnd.jupyter.widget-view+json": {
       "model_id": "b2c0516d7c6c49bb96b409cd09003765",
       "version_major": 2,
       "version_minor": 0
      },
      "text/plain": [
       "ViewInteractiveWidget(height=768, layout=Layout(height='auto', width='100%'), width=1024)"
      ]
     },
     "metadata": {},
     "output_type": "display_data"
    }
   ],
   "source": [
    "T1.plot_prop(\"K\",0, slicex=0.5,slicey=0.5,slicez=0.5)"
   ]
  },
  {
   "cell_type": "code",
   "execution_count": 33,
   "metadata": {
    "scrolled": false
   },
   "outputs": [
    {
     "data": {
      "application/vnd.jupyter.widget-view+json": {
       "model_id": "898884104ea843f0880ef0c762db0597",
       "version_major": 2,
       "version_minor": 0
      },
      "text/plain": [
       "ViewInteractiveWidget(height=768, layout=Layout(height='auto', width='100%'), width=1024)"
      ]
     },
     "metadata": {},
     "output_type": "display_data"
    }
   ],
   "source": [
    "T1.plot_mean_prop(\"K\", slicey = 0.5)"
   ]
  },
  {
   "cell_type": "markdown",
   "metadata": {},
   "source": [
    "## Cross-valid\n",
    "\n",
    "#### make some boreholes and remove previous ones"
   ]
  },
  {
   "cell_type": "code",
   "execution_count": 34,
   "metadata": {},
   "outputs": [],
   "source": [
    "np.random.seed(145)\n",
    "n=40\n",
    "\n",
    "x_positions=(np.random.random(size=n) - x0)*x1\n",
    "y_positions=(np.random.random(size=n) - y0)*y1"
   ]
  },
  {
   "cell_type": "code",
   "execution_count": 35,
   "metadata": {
    "scrolled": false
   },
   "outputs": [
    {
     "name": "stdout",
     "output_type": "stream",
     "text": [
      "Borehole at positon (15.414780590592452, 0.5374075858244143) is outside of a simulation zone\n",
      "Borehole at positon (1.3683836818569661, 0.06684945378537144) is outside of a simulation zone\n",
      "Borehole at positon (5.485074132786356, 0.6773678274406503) is outside of a simulation zone\n",
      "Borehole at positon (17.038022950387564, 0.1359208851639604) is outside of a simulation zone\n",
      "Borehole at positon (0.5259227758039486, 0.04428559292882328) is outside of a simulation zone\n"
     ]
    }
   ],
   "source": [
    "l_bhs=T1.make_fake_bh(x_positions, y_positions)[0][0]"
   ]
  },
  {
   "cell_type": "code",
   "execution_count": 36,
   "metadata": {},
   "outputs": [],
   "source": [
    "l_bhs[3].log_strati  =[(C, -6.015), (B, -8.25), (A, -12.45)]"
   ]
  },
  {
   "cell_type": "code",
   "execution_count": 37,
   "metadata": {},
   "outputs": [],
   "source": [
    "l_bhs[6].log_strati = [(D2, -6.015), (D1, -6.9), (B, -8.7), (A, -8.85)]"
   ]
  },
  {
   "cell_type": "code",
   "execution_count": 38,
   "metadata": {},
   "outputs": [],
   "source": [
    "l_bhs[15].log_strati = [(D2, -6.015), (D1, -6.3), (B, -8.55), (A, -9.6)]"
   ]
  },
  {
   "cell_type": "code",
   "execution_count": 39,
   "metadata": {},
   "outputs": [
    {
     "name": "stdout",
     "output_type": "stream",
     "text": [
      "boreholes removed\n"
     ]
    }
   ],
   "source": [
    "T1.rem_all_bhs()"
   ]
  },
  {
   "cell_type": "code",
   "execution_count": 40,
   "metadata": {},
   "outputs": [
    {
     "name": "stdout",
     "output_type": "stream",
     "text": [
      "Borehole fake goes below model limits, borehole fake depth cut\n",
      "Borehole fake added\n",
      "Borehole fake goes below model limits, borehole fake depth cut\n",
      "Borehole fake added\n",
      "Borehole fake goes below model limits, borehole fake depth cut\n",
      "Borehole fake added\n",
      "Borehole fake goes below model limits, borehole fake depth cut\n",
      "Borehole fake added\n",
      "Borehole fake goes below model limits, borehole fake depth cut\n",
      "Borehole fake added\n",
      "Borehole fake goes below model limits, borehole fake depth cut\n",
      "Borehole fake added\n",
      "Borehole fake goes below model limits, borehole fake depth cut\n",
      "Borehole fake added\n",
      "Borehole fake goes below model limits, borehole fake depth cut\n",
      "Borehole fake added\n",
      "Borehole fake goes below model limits, borehole fake depth cut\n",
      "Borehole fake added\n",
      "Borehole fake goes below model limits, borehole fake depth cut\n",
      "Borehole fake added\n",
      "Borehole fake goes below model limits, borehole fake depth cut\n",
      "Borehole fake added\n",
      "Borehole fake goes below model limits, borehole fake depth cut\n",
      "Borehole fake added\n",
      "Borehole fake goes below model limits, borehole fake depth cut\n",
      "Borehole fake added\n",
      "Borehole fake goes below model limits, borehole fake depth cut\n",
      "Borehole fake added\n",
      "Borehole fake goes below model limits, borehole fake depth cut\n",
      "Borehole fake added\n",
      "Borehole fake goes below model limits, borehole fake depth cut\n",
      "Borehole fake added\n",
      "Borehole fake goes below model limits, borehole fake depth cut\n",
      "Borehole fake added\n",
      "Borehole fake goes below model limits, borehole fake depth cut\n",
      "Borehole fake added\n",
      "Borehole fake goes below model limits, borehole fake depth cut\n",
      "Borehole fake added\n",
      "Borehole fake goes below model limits, borehole fake depth cut\n",
      "Borehole fake added\n",
      "Borehole fake goes below model limits, borehole fake depth cut\n",
      "Borehole fake added\n",
      "Borehole fake goes below model limits, borehole fake depth cut\n",
      "Borehole fake added\n",
      "Borehole fake goes below model limits, borehole fake depth cut\n",
      "Borehole fake added\n",
      "Borehole fake goes below model limits, borehole fake depth cut\n",
      "Borehole fake added\n",
      "Borehole fake goes below model limits, borehole fake depth cut\n",
      "Borehole fake added\n",
      "Borehole fake goes below model limits, borehole fake depth cut\n",
      "Borehole fake added\n",
      "Borehole fake goes below model limits, borehole fake depth cut\n",
      "Borehole fake added\n",
      "Borehole fake goes below model limits, borehole fake depth cut\n",
      "Borehole fake added\n",
      "Borehole fake goes below model limits, borehole fake depth cut\n",
      "Borehole fake added\n",
      "Borehole fake goes below model limits, borehole fake depth cut\n",
      "Borehole fake added\n",
      "Borehole fake goes below model limits, borehole fake depth cut\n",
      "Borehole fake added\n",
      "Borehole fake goes below model limits, borehole fake depth cut\n",
      "Borehole fake added\n",
      "Borehole fake goes below model limits, borehole fake depth cut\n",
      "Borehole fake added\n",
      "Borehole fake goes below model limits, borehole fake depth cut\n",
      "Borehole fake added\n",
      "Borehole fake goes below model limits, borehole fake depth cut\n",
      "Borehole fake added\n"
     ]
    }
   ],
   "source": [
    "T1.add_bh(l_bhs)"
   ]
  },
  {
   "cell_type": "code",
   "execution_count": 41,
   "metadata": {
    "scrolled": false
   },
   "outputs": [
    {
     "data": {
      "application/vnd.jupyter.widget-view+json": {
       "model_id": "ca6d021775444a9a99e1758a002606e5",
       "version_major": 2,
       "version_minor": 0
      },
      "text/plain": [
       "ViewInteractiveWidget(height=768, layout=Layout(height='auto', width='100%'), width=1024)"
      ]
     },
     "metadata": {},
     "output_type": "display_data"
    }
   ],
   "source": [
    "T1.plot_bhs()"
   ]
  },
  {
   "cell_type": "code",
   "execution_count": 42,
   "metadata": {},
   "outputs": [],
   "source": [
    "import ArchPy.x_valid"
   ]
  },
  {
   "cell_type": "code",
   "execution_count": 45,
   "metadata": {
    "scrolled": true
   },
   "outputs": [
    {
     "data": {
      "image/png": "[encoded data removed]",
      "text/plain": [
       "<Figure size 252x216 with 2 Axes>"
      ]
     },
     "metadata": {
      "needs_background": "light"
     },
     "output_type": "display_data"
    },
    {
     "data": {
      "image/png": "[encoded data removed]",
      "text/plain": [
       "<Figure size 252x216 with 2 Axes>"
      ]
     },
     "metadata": {
      "needs_background": "light"
     },
     "output_type": "display_data"
    },
    {
     "data": {
      "image/png": "[encoded data removed]",
      "text/plain": [
       "<Figure size 252x216 with 2 Axes>"
      ]
     },
     "metadata": {
      "needs_background": "light"
     },
     "output_type": "display_data"
    },
    {
     "data": {
      "image/png": "[encoded data removed]",
      "text/plain": [
       "<Figure size 252x216 with 2 Axes>"
      ]
     },
     "metadata": {
      "needs_background": "light"
     },
     "output_type": "display_data"
    },
    {
     "data": {
      "image/png": "[encoded data removed]",
      "text/plain": [
       "<Figure size 252x216 with 2 Axes>"
      ]
     },
     "metadata": {
      "needs_background": "light"
     },
     "output_type": "display_data"
    },
    {
     "data": {
      "image/png": "[encoded data removed]",
      "text/plain": [
       "<Figure size 252x216 with 2 Axes>"
      ]
     },
     "metadata": {
      "needs_background": "light"
     },
     "output_type": "display_data"
    },
    {
     "data": {
      "image/png": "[encoded data removed]",
      "text/plain": [
       "<Figure size 252x216 with 2 Axes>"
      ]
     },
     "metadata": {
      "needs_background": "light"
     },
     "output_type": "display_data"
    },
    {
     "data": {
      "image/png": "[encoded data removed]",
      "text/plain": [
       "<Figure size 252x216 with 2 Axes>"
      ]
     },
     "metadata": {
      "needs_background": "light"
     },
     "output_type": "display_data"
    },
    {
     "data": {
      "image/png": "[encoded data removed]",
      "text/plain": [
       "<Figure size 432x288 with 1 Axes>"
      ]
     },
     "metadata": {
      "needs_background": "light"
     },
     "output_type": "display_data"
    },
    {
     "data": {
      "image/png": "[encoded data removed]",
      "text/plain": [
       "<Figure size 252x216 with 2 Axes>"
      ]
     },
     "metadata": {
      "needs_background": "light"
     },
     "output_type": "display_data"
    },
    {
     "data": {
      "image/png": "[encoded data removed]",
      "text/plain": [
       "<Figure size 252x216 with 2 Axes>"
      ]
     },
     "metadata": {
      "needs_background": "light"
     },
     "output_type": "display_data"
    },
    {
     "data": {
      "image/png": "[encoded data removed]",
      "text/plain": [
       "<Figure size 252x216 with 2 Axes>"
      ]
     },
     "metadata": {
      "needs_background": "light"
     },
     "output_type": "display_data"
    },
    {
     "data": {
      "image/png": "[encoded data removed]",
      "text/plain": [
       "<Figure size 252x216 with 2 Axes>"
      ]
     },
     "metadata": {
      "needs_background": "light"
     },
     "output_type": "display_data"
    },
    {
     "data": {
      "image/png": "[encoded data removed]",
      "text/plain": [
       "<Figure size 252x216 with 2 Axes>"
      ]
     },
     "metadata": {
      "needs_background": "light"
     },
     "output_type": "display_data"
    },
    {
     "data": {
      "image/png": "[encoded data removed]",
      "text/plain": [
       "<Figure size 252x216 with 2 Axes>"
      ]
     },
     "metadata": {
      "needs_background": "light"
     },
     "output_type": "display_data"
    },
    {
     "data": {
      "image/png": "[encoded data removed]",
      "text/plain": [
       "<Figure size 252x216 with 2 Axes>"
      ]
     },
     "metadata": {
      "needs_background": "light"
     },
     "output_type": "display_data"
    },
    {
     "data": {
      "image/png": "[encoded data removed]",
      "text/plain": [
       "<Figure size 252x216 with 2 Axes>"
      ]
     },
     "metadata": {
      "needs_background": "light"
     },
     "output_type": "display_data"
    },
    {
     "data": {
      "image/png": "[encoded data removed]",
      "text/plain": [
       "<Figure size 432x288 with 1 Axes>"
      ]
     },
     "metadata": {
      "needs_background": "light"
     },
     "output_type": "display_data"
    },
    {
     "data": {
      "image/png": "[encoded data removed]",
      "text/plain": [
       "<Figure size 252x216 with 2 Axes>"
      ]
     },
     "metadata": {
      "needs_background": "light"
     },
     "output_type": "display_data"
    },
    {
     "data": {
      "image/png": "[encoded data removed]",
      "text/plain": [
       "<Figure size 252x216 with 2 Axes>"
      ]
     },
     "metadata": {
      "needs_background": "light"
     },
     "output_type": "display_data"
    },
    {
     "data": {
      "image/png": "[encoded data removed]",
      "text/plain": [
       "<Figure size 252x216 with 2 Axes>"
      ]
     },
     "metadata": {
      "needs_background": "light"
     },
     "output_type": "display_data"
    },
    {
     "data": {
      "image/png": "[encoded data removed]",
      "text/plain": [
       "<Figure size 252x216 with 2 Axes>"
      ]
     },
     "metadata": {
      "needs_background": "light"
     },
     "output_type": "display_data"
    },
    {
     "data": {
      "image/png": "[encoded data removed]",
      "text/plain": [
       "<Figure size 252x216 with 2 Axes>"
      ]
     },
     "metadata": {
      "needs_background": "light"
     },
     "output_type": "display_data"
    },
    {
     "data": {
      "image/png": "[encoded data removed]",
      "text/plain": [
       "<Figure size 252x216 with 2 Axes>"
      ]
     },
     "metadata": {
      "needs_background": "light"
     },
     "output_type": "display_data"
    },
    {
     "data": {
      "image/png": "[encoded data removed]",
      "text/plain": [
       "<Figure size 252x216 with 2 Axes>"
      ]
     },
     "metadata": {
      "needs_background": "light"
     },
     "output_type": "display_data"
    },
    {
     "data": {
      "image/png": "[encoded data removed]",
      "text/plain": [
       "<Figure size 252x216 with 2 Axes>"
      ]
     },
     "metadata": {
      "needs_background": "light"
     },
     "output_type": "display_data"
    },
    {
     "data": {
      "image/png": "[encoded data removed]",
      "text/plain": [
       "<Figure size 432x288 with 1 Axes>"
      ]
     },
     "metadata": {
      "needs_background": "light"
     },
     "output_type": "display_data"
    },
    {
     "data": {
      "image/png": "[encoded data removed]",
      "text/plain": [
       "<Figure size 252x216 with 2 Axes>"
      ]
     },
     "metadata": {
      "needs_background": "light"
     },
     "output_type": "display_data"
    },
    {
     "data": {
      "image/png": "[encoded data removed]",
      "text/plain": [
       "<Figure size 252x216 with 2 Axes>"
      ]
     },
     "metadata": {
      "needs_background": "light"
     },
     "output_type": "display_data"
    },
    {
     "data": {
      "image/png": "[encoded data removed]",
      "text/plain": [
       "<Figure size 252x216 with 2 Axes>"
      ]
     },
     "metadata": {
      "needs_background": "light"
     },
     "output_type": "display_data"
    },
    {
     "data": {
      "image/png": "[encoded data removed]",
      "text/plain": [
       "<Figure size 252x216 with 2 Axes>"
      ]
     },
     "metadata": {
      "needs_background": "light"
     },
     "output_type": "display_data"
    },
    {
     "data": {
      "image/png": "[encoded data removed]",
      "text/plain": [
       "<Figure size 252x216 with 2 Axes>"
      ]
     },
     "metadata": {
      "needs_background": "light"
     },
     "output_type": "display_data"
    },
    {
     "data": {
      "image/png": "[encoded data removed]",
      "text/plain": [
       "<Figure size 252x216 with 2 Axes>"
      ]
     },
     "metadata": {
      "needs_background": "light"
     },
     "output_type": "display_data"
    },
    {
     "data": {
      "image/png": "[encoded data removed]",
      "text/plain": [
       "<Figure size 252x216 with 2 Axes>"
      ]
     },
     "metadata": {
      "needs_background": "light"
     },
     "output_type": "display_data"
    },
    {
     "data": {
      "image/png": "[encoded data removed]",
      "text/plain": [
       "<Figure size 252x216 with 2 Axes>"
      ]
     },
     "metadata": {
      "needs_background": "light"
     },
     "output_type": "display_data"
    },
    {
     "data": {
      "image/png": "[encoded data removed]",
      "text/plain": [
       "<Figure size 432x288 with 1 Axes>"
      ]
     },
     "metadata": {
      "needs_background": "light"
     },
     "output_type": "display_data"
    }
   ],
   "source": [
    "scores = ArchPy.x_valid.X_valid(T1, k=4, nreal_fa=0, verbose=0, seed=100)"
   ]
  },
  {
   "cell_type": "code",
   "execution_count": 46,
   "metadata": {},
   "outputs": [
    {
     "data": {
      "text/plain": [
       "array([[-0.25898305,         nan],\n",
       "       [-0.35050847,         nan],\n",
       "       [-0.20881356,         nan],\n",
       "       [-0.14423729,         nan]])"
      ]
     },
     "execution_count": 46,
     "metadata": {},
     "output_type": "execute_result"
    }
   ],
   "source": [
    "scores"
   ]
  },
  {
   "cell_type": "code",
   "execution_count": 47,
   "metadata": {},
   "outputs": [
    {
     "data": {
      "text/plain": [
       "[<matplotlib.lines.Line2D at 0x27fbeba77c8>]"
      ]
     },
     "execution_count": 47,
     "metadata": {},
     "output_type": "execute_result"
    },
    {
     "data": {
      "image/png": "[encoded data removed]",
      "text/plain": [
       "<Figure size 432x288 with 1 Axes>"
      ]
     },
     "metadata": {
      "needs_background": "light"
     },
     "output_type": "display_data"
    }
   ],
   "source": [
    "plt.plot(np.array(scores)[:,0])"
   ]
  },
  {
   "cell_type": "code",
   "execution_count": 48,
   "metadata": {},
   "outputs": [
    {
     "data": {
      "text/plain": [
       "35"
      ]
     },
     "execution_count": 48,
     "metadata": {},
     "output_type": "execute_result"
    }
   ],
   "source": [
    "len(T1.list_bhs)"
   ]
  },
  {
   "cell_type": "code",
   "execution_count": 49,
   "metadata": {},
   "outputs": [
    {
     "data": {
      "text/plain": [
       "(array([1., 0., 0., 0., 1., 0., 1., 0., 0., 1.]),\n",
       " array([-0.35050847, -0.32988136, -0.30925424, -0.28862712, -0.268     ,\n",
       "        -0.24737288, -0.22674576, -0.20611864, -0.18549153, -0.16486441,\n",
       "        -0.14423729]),\n",
       " <BarContainer object of 10 artists>)"
      ]
     },
     "execution_count": 49,
     "metadata": {},
     "output_type": "execute_result"
    },
    {
     "data": {
      "image/png": "[encoded data removed]",
      "text/plain": [
       "<Figure size 432x288 with 1 Axes>"
      ]
     },
     "metadata": {
      "needs_background": "light"
     },
     "output_type": "display_data"
    }
   ],
   "source": [
    "plt.hist(np.array(scores)[:, 0])"
   ]
  },
  {
   "cell_type": "code",
   "execution_count": null,
   "metadata": {},
   "outputs": [],
   "source": []
  }
 ],
 "metadata": {
  "kernelspec": {
   "display_name": "Python 3 (ipykernel)",
   "language": "python",
   "name": "python3"
  },
  "language_info": {
   "codemirror_mode": {
    "name": "ipython",
    "version": 3
   },
   "file_extension": ".py",
   "mimetype": "text/x-python",
   "name": "python",
   "nbconvert_exporter": "python",
   "pygments_lexer": "ipython3",
   "version": "3.7.11"
  }
 },
 "nbformat": 4,
 "nbformat_minor": 2
}
