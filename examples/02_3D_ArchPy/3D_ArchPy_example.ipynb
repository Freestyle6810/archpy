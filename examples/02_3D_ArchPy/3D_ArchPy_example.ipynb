{
 "cells": [
  {
   "cell_type": "code",
   "execution_count": 28,
   "metadata": {},
   "outputs": [],
   "source": [
    "import numpy as np\n",
    "import matplotlib\n",
    "from matplotlib import colors\n",
    "import matplotlib.pyplot as plt\n",
    "import geone\n",
    "import geone.covModel as gcm\n",
    "import geone.imgplot3d as imgplt3\n",
    "import pyvista as pv\n",
    "pv.set_jupyter_backend('static')\n",
    "import sys\n",
    "\n",
    "#For loading ArchPy, the path where ArchPy is must be added with sys\n",
    "sys.path.append(\"../../\")\n",
    "#my modules\n",
    "from ArchPy.base import * #ArchPy main functions \n",
    "from ArchPy.tpgs import * #Truncated plurigaussians"
   ]
  },
  {
   "cell_type": "code",
   "execution_count": 2,
   "metadata": {},
   "outputs": [],
   "source": [
    "PB = Pile(name = \"PB\",seed=1)\n",
    "P1 = Pile(name=\"P1\",seed=1)"
   ]
  },
  {
   "cell_type": "code",
   "execution_count": 3,
   "metadata": {},
   "outputs": [],
   "source": [
    "#grid\n",
    "sx = 0.15\n",
    "sy = 0.15\n",
    "sz = .15\n",
    "x1 = 20\n",
    "y1 = 10\n",
    "z1 = -6\n",
    "x0 = 0\n",
    "y0 = 0\n",
    "z0 = -15\n",
    "nx = 133\n",
    "ny = 67\n",
    "nz = 62\n",
    "\n",
    "\n",
    "dimensions = (nx, ny, nz)\n",
    "spacing = (sx, sy, sz)\n",
    "origin = (x0, y0, z0)  "
   ]
  },
  {
   "cell_type": "code",
   "execution_count": 4,
   "metadata": {},
   "outputs": [
    {
     "name": "stdout",
     "output_type": "stream",
     "text": [
      "[0.19104429 0.26419991 0.19104429 0.35371151]\n"
     ]
    },
    {
     "data": {
      "image/png": "[encoded data removed]",
      "text/plain": [
       "<Figure size 864x360 with 4 Axes>"
      ]
     },
     "metadata": {
      "needs_background": "light"
     },
     "output_type": "display_data"
    }
   ],
   "source": [
    "## setup TPGs for B units\n",
    "\n",
    "#flag\n",
    "#thresholds\n",
    "t2g1 = -0.3\n",
    "t3g1 = .3\n",
    "t1g2 = 0\n",
    "t2g2 = 0.5\n",
    "\n",
    "#dictionnaries show where a certain facies is present. \n",
    "# The structure is a list of list containing 2 tuples of size 2 that indicates the limits of the gaussian fields\n",
    "# e.g. [[(lower_boundary1_g1,upper_boundary1_g1),(lower_boundary1_g2,upper_boundary1_g2)]] --> this indicates one cuboid and multiple can be defined\n",
    "dic1 = [[(-np.inf,t2g1),(-np.inf,t1g2)]] # this facies is present between -inf to -0.3 of the 1st gaussian field and between -inf to 0 of the 2\n",
    "dic2 = [[(t3g1,np.inf),(-np.inf,t2g2)]]\n",
    "dic3 = [[(-np.inf,t2g1),(t1g2,np.inf)]]\n",
    "dic4 = [[(t2g1,t3g1),(-np.inf,np.inf)],[(t3g1,np.inf),(t2g2,np.inf)]]\n",
    "\n",
    "flag = {1:dic1,\n",
    "        2:dic2,\n",
    "        3:dic3,\n",
    "        5:dic4}\n",
    "print(ArchPy.tpgs.pfa(flag))\n",
    "\n",
    "\n",
    "plt.figure(figsize=(12,5))\n",
    "plt.subplot(1,2,1)\n",
    "plot_flag(flag,alpha=.7)\n",
    "\n",
    "plt.subplot(1,2,2)\n",
    "plot_flag(Gspace2Pspace(flag),alpha=.7)\n",
    "\n",
    "## G_cm\n",
    "G1 = gcm.CovModel3D(elem=[(\"cubic\",{\"w\":1.,\"r\":[5.,5.,2.]}),\n",
    "                         (\"nugget\",{\"w\":0.0})],name=\"G1\")\n",
    "G2 = gcm.CovModel3D(elem=[(\"cubic\",{\"w\":1.,\"r\":[5.,5.,2.]}),\n",
    "                         (\"nugget\",{\"w\":0.0})],name=\"G2\",alpha=30)\n",
    "G_cm = [G1,G2]"
   ]
  },
  {
   "cell_type": "code",
   "execution_count": 5,
   "metadata": {},
   "outputs": [
    {
     "name": "stdout",
     "output_type": "stream",
     "text": [
      "Unit D: Surface added for interpolation\n",
      "Unit C: covmodel for SIS added\n",
      "Unit C: Surface added for interpolation\n",
      "Unit B: Surface added for interpolation\n",
      "Unit A: Surface added for interpolation\n",
      "Stratigraphic unit D added\n",
      "Stratigraphic unit C added\n",
      "Stratigraphic unit B added\n",
      "Stratigraphic unit A added\n",
      "Unit B3: covmodel for SIS added\n",
      "Unit B3: Surface added for interpolation\n",
      "Unit B2: covmodel for SIS added\n",
      "Unit B2: Surface added for interpolation\n",
      "Unit B1: covmodel for SIS added\n",
      "Unit B1: Surface added for interpolation\n",
      "Stratigraphic unit B3 added\n",
      "Stratigraphic unit B2 added\n",
      "Stratigraphic unit B1 added\n"
     ]
    }
   ],
   "source": [
    "#units covmodel\n",
    "covmodelD = gcm.CovModel2D(elem=[('cubic', {'w':0.6, 'r':[6,6]})])\n",
    "covmodelC = gcm.CovModel2D(elem=[('cubic', {'w':0.2, 'r':[8,8]})])\n",
    "covmodelB = gcm.CovModel2D(elem=[('cubic', {'w':0.6, 'r':[6,6]})])\n",
    "covmodel_er = gcm.CovModel2D(elem=[('spherical', {'w':1, 'r':[10,10]})])\n",
    "\n",
    "## facies covmodel\n",
    "covmodel_SIS_C = gcm.CovModel3D(elem=[(\"exponential\",{\"w\":.25,\"r\":[10,10,3]})],alpha=0,name=\"vario_SIS\") # input variogram\n",
    "covmodel_SIS_D = gcm.CovModel3D(elem=[(\"exponential\",{\"w\":.25,\"r\":[5,5,5]})],alpha=0,name=\"vario_SIS\") # input variogram\n",
    "lst_covmodelC=[covmodel_SIS_C] # list of covmodels to pass at the function\n",
    "lst_covmodelD=[covmodel_SIS_D]\n",
    "\n",
    "\n",
    "#create Lithologies \n",
    "dic_s_D = {\"int_method\" : \"grf_ineq\",\"covmodel\" : covmodelD}\n",
    "dic_f_D = {\"f_method\" : \"TPGs\",\"Flag\" : flag,\"G_cm\":G_cm,\"grf_method\":\"sgs\"}\n",
    "D = Unit(name=\"D\",order=1,ID = 1,color=\"gold\",contact=\"onlap\",surface=Surface(contact=\"onlap\",dic_surf=dic_s_D)\n",
    "         ,dic_facies=dic_f_D)\n",
    "\n",
    "dic_s_C = {\"int_method\" : \"grf_ineq\",\"covmodel\" : covmodelC}\n",
    "dic_f_C = {\"f_method\" : \"SIS\",\"neig\" : 10,\"f_covmodel\":covmodel_SIS_C}\n",
    "C = Unit(name=\"C\",order=2,ID = 2,color=\"blue\",contact=\"onlap\",dic_facies=dic_f_C,surface=Surface(dic_surf=dic_s_C,contact=\"onlap\"))\n",
    "\n",
    "dic_s_er2 = {\"int_method\" : \"grf\",\"covmodel\" : covmodel_er}\n",
    "erosion2 = Surface(dic_surf=dic_s_er2, contact=\"erode\")\n",
    "#er2 = Unit(name=\"erosion2\",ID = 4, order=4,contact=\"erode\",color=\"black\",surface=Surface(dic_surf = dic_s_er2,contact=\"erode\"))         \n",
    "\n",
    "dic_s_B = {\"int_method\" : \"grf_ineq\",\"covmodel\" : covmodelB}\n",
    "dic_f_B = {\"f_method\":\"SubPile\",\"SubPile\":PB}\n",
    "B = Unit(name=\"B\",order=3,ID = 3,color=\"green\",contact=\"onlap\",dic_facies=dic_f_B,surface=Surface(contact=\"onlap\",dic_surf=dic_s_B))\n",
    "\n",
    "dic_s_A = {\"int_method\":\"grf_ineq\",\"covmodel\": covmodelB}\n",
    "dic_f_A = {\"f_method\":\"homogenous\"}\n",
    "A = Unit(name=\"A\",order=5,ID = 5,color=\"red\",contact=\"onlap\",dic_facies=dic_f_A,surface=Surface(dic_surf = dic_s_A,contact=\"onlap\"))\n",
    "\n",
    "#Master pile\n",
    "P1.add_unit([D,C,B,A])\n",
    "\n",
    "# PB\n",
    "ds_B3 = {\"int_method\":\"grf_ineq\",\"covmodel\":covmodelB}\n",
    "df_B3 = {\"f_method\":\"SIS\",\"neig\" : 10,\"f_covmodel\":covmodel_SIS_D}\n",
    "B3 = Unit(name = \"B3\",order=1,ID = 6,color=\"forestgreen\",surface=Surface(dic_surf=ds_B3,contact=\"onlap\"),dic_facies=df_B3)\n",
    "\n",
    "ds_B2 = {\"int_method\":\"grf_ineq\",\"covmodel\":covmodelB}\n",
    "df_B2 = {\"f_method\":\"SIS\",\"neig\" : 10,\"f_covmodel\":covmodel_SIS_D}\n",
    "B2 = Unit(name = \"B2\",order=2,ID = 7,color=\"limegreen\",surface=Surface(dic_surf=ds_B2,contact=\"erode\"),dic_facies=df_B2)\n",
    "\n",
    "ds_B1 = {\"int_method\":\"grf_ineq\",\"covmodel\":covmodelB}\n",
    "df_B1 = {\"f_method\":\"SIS\",\"neig\" : 10,\"f_covmodel\":covmodel_SIS_D}\n",
    "B1 = Unit(name = \"B1\",order=3, ID = 8,color=\"palegreen\",surface=Surface(dic_surf=ds_B1,contact=\"onlap\"),dic_facies=df_B1)\n",
    "\n",
    "## Subpile\n",
    "PB.add_unit([B3,B2,B1])"
   ]
  },
  {
   "cell_type": "code",
   "execution_count": 6,
   "metadata": {},
   "outputs": [
    {
     "name": "stdout",
     "output_type": "stream",
     "text": [
      "Facies basement added to unit A\n",
      "Facies Sand added to unit B\n",
      "Facies Gravel added to unit B\n",
      "Facies GM added to unit B\n",
      "Facies SM added to unit B\n",
      "Facies Sand added to unit D\n",
      "Facies Gravel added to unit D\n",
      "Facies GM added to unit D\n",
      "Facies SM added to unit D\n",
      "Facies Clay added to unit C\n",
      "Facies Silt added to unit C\n",
      "Facies Sand added to unit B3\n",
      "Facies Gravel added to unit B3\n",
      "Facies GM added to unit B3\n",
      "Facies SM added to unit B3\n",
      "Facies Sand added to unit B2\n",
      "Facies Gravel added to unit B2\n",
      "Facies GM added to unit B2\n",
      "Facies SM added to unit B2\n",
      "Facies Sand added to unit B1\n",
      "Facies Gravel added to unit B1\n",
      "Facies GM added to unit B1\n",
      "Facies SM added to unit B1\n"
     ]
    }
   ],
   "source": [
    "# covmodels for the property model\n",
    "covmodelK = gcm.CovModel3D(elem=[(\"exponential\",{\"w\":0.3,\"r\":[5,5,1]})],alpha=-20,name=\"K_vario\")\n",
    "covmodelK2 = gcm.CovModel3D(elem=[(\"spherical\",{\"w\":0.1,\"r\":[3,3,1]})],alpha=0,name=\"K_vario_2\")\n",
    "covmodelPoro = gcm.CovModel3D(elem=[(\"exponential\",{\"w\":0.005,\"r\":[10,10,10]})],alpha=0,name=\"poro_vario\")\n",
    "\n",
    "facies_1 = Facies(ID = 1,name=\"Sand\",color=\"yellow\")\n",
    "facies_2 = Facies(ID = 2,name=\"Gravel\",color=\"lightgreen\")\n",
    "facies_3 = Facies(ID = 3,name=\"GM\",color=\"blueviolet\")\n",
    "facies_4 = Facies(ID = 4,name=\"Clay\",color=\"blue\")\n",
    "facies_5 = Facies(ID = 5,name=\"SM\",color=\"brown\")\n",
    "facies_6 = Facies(ID = 6,name=\"Silt\",color=\"goldenrod\")\n",
    "facies_7 = Facies(ID = 7,name=\"basement\",color=\"red\")\n",
    "\n",
    "A.add_facies([facies_7])\n",
    "B.add_facies([facies_1,facies_2,facies_3,facies_5])\n",
    "D.add_facies([facies_1,facies_2,facies_3,facies_5])\n",
    "C.add_facies([facies_4,facies_6])\n",
    "#add same facies than B\n",
    "for b in PB.list_units:\n",
    "    b.add_facies(B.list_facies)\n",
    "\n",
    "permea = Prop(\"K\",[facies_1,facies_2,facies_3,facies_4,facies_5,facies_6,facies_7],\n",
    "                  [covmodelK2,covmodelK,covmodelK,None,covmodelK2,covmodelK,None],\n",
    "                  means=[-3.5,-2,-4.5,-8,-5.5,-6.5,-10],\n",
    "                  int_method = [\"sgs\",\"sgs\",\"sgs\",\"homogenous\",\"sgs\",\"sgs\",\"homogenous\"],\n",
    "                  def_mean=-5)\n",
    "poro = Prop(\"Porosity\",\n",
    "            [facies_1,facies_3,facies_4],\n",
    "            [covmodelPoro,covmodelPoro,covmodelPoro],\n",
    "             means = [0.4,0.3,0.2],\n",
    "             int_method = [\"sgs\",\"sgs\",\"sgs\"],\n",
    "             def_mean=0.3,\n",
    "             vmin=0)"
   ]
  },
  {
   "cell_type": "code",
   "execution_count": 7,
   "metadata": {},
   "outputs": [],
   "source": [
    "top = np.ones([ny,nx])*-6\n",
    "bot = np.ones([ny,nx])*z0"
   ]
  },
  {
   "cell_type": "code",
   "execution_count": 8,
   "metadata": {},
   "outputs": [],
   "source": [
    "#logs strati\n",
    "log_strati1 = [(C,-6.01),(B3,-8),(B2,-9),(B1,-9.5),(A,-10)]\n",
    "log_strati2 = [(C,-6.01),(B3,-8.5),(B2,-9.5),(A,-10.5)]\n",
    "log_strati3 = [(D,-6.01),(B3,-8),(B2,-8.5),(B1,-9.5),(A,-10.5)]\n",
    "log_strati4 = [(D,-6.01),(B3,-9),(B2,-10),(A,-11)]\n",
    "log_strati5 = [(D,-6.01),(C,-10),(A,-12)]\n",
    "log_strati6 = [(D,-6.01),(A,-9)]\n",
    "\n",
    "# logs facies\n",
    "log_facies1 = [(facies_4,-6.01),(facies_6,-6.5),(facies_4,-7),(facies_6,-7.5), # facies in unit C\n",
    "               (facies_1,-8),(facies_5,-8.5),(facies_2,-9),(facies_3,-9.3),  # facies in unit B\n",
    "               (facies_7,-10)]\n",
    "log_facies2 = [(facies_4,-6.01),(facies_6,-7.3),(facies_4,-7.6),(facies_6,-8),\n",
    "               (facies_2,-8.5),(facies_1,-8.8),(facies_2,-9),(facies_3,-9.2),(facies_1,-10),\n",
    "               (facies_7,-10.5)]\n",
    "log_facies3 = [(facies_1,-6.015),(facies_2,-6.8),(facies_5,-7),(facies_3,-7.3),(facies_1,-7.5),\n",
    "               (facies_2,-8),(facies_1,-8.8),(facies_2,-9),(facies_3,-9.2),(facies_1,-10),\n",
    "              (facies_7,-10.5)]\n",
    "log_facies4 = [(facies_1,-6.01),(facies_2,-7.5),(facies_5,-7.8),(facies_3,-8),(facies_5,-8.3),(facies_1,-8.7),\n",
    "               (facies_2,-9),(facies_1,-10),(facies_2,-10.5),\n",
    "               (facies_7,-11)]\n",
    "log_facies5 = [(facies_5,-6.01),(facies_1,-7.5),(facies_3,-7.8),(facies_2,-8),(facies_1,-8.3),(facies_2,-8.7),(facies_1,-9),(facies_5,-9.5),\n",
    "               (facies_4,-10),(facies_6,-10.4),(facies_4,-11),\n",
    "               (facies_7,-12)]\n",
    "log_facies6 = [(facies_1,-6.01),(facies_2,-8.3),(facies_3,-8.5),(facies_2,-8.7),\n",
    "               (facies_7,-9)]\n",
    "\n",
    "#create boreholes\n",
    "bh1 = borehole(\"b1\",1,x=1,y=5,z=log_strati1[0][1],depth =9,log_strati=log_strati1,log_facies=log_facies1)\n",
    "bh2 = borehole(\"b2\",2,x=3,y=2,z=log_strati2[0][1],depth =8,log_strati=log_strati2,log_facies=log_facies2)\n",
    "bh3 = borehole(\"b3\",3,x=5,y=6,z=log_strati3[0][1],depth =7,log_strati=log_strati3,log_facies=log_facies3)\n",
    "bh4 = borehole(\"b4\",4,x=10,y=1,z=log_strati4[0][1],depth =8,log_strati=log_strati4,log_facies=log_facies4)\n",
    "bh5 = borehole(\"b5\",5,x=15,y=3,z=log_strati5[0][1],depth =8,log_strati=log_strati5,log_facies=log_facies5)\n",
    "bh6 = borehole(\"b6\",6,x=19,y=9,z=log_strati6[0][1],depth =6,log_strati=log_strati6,log_facies=log_facies6)"
   ]
  },
  {
   "cell_type": "code",
   "execution_count": 9,
   "metadata": {},
   "outputs": [
    {
     "data": {
      "text/plain": [
       "<matplotlib.image.AxesImage at 0x1b98b5a0b08>"
      ]
     },
     "execution_count": 9,
     "metadata": {},
     "output_type": "execute_result"
    },
    {
     "data": {
      "image/png": "[encoded data removed]",
      "text/plain": [
       "<Figure size 432x288 with 1 Axes>"
      ]
     },
     "metadata": {
      "needs_background": "light"
     },
     "output_type": "display_data"
    }
   ],
   "source": [
    "domain = np.ones([ny,nx],dtype=bool)\n",
    "domain[: 5]= 0\n",
    "domain[-5:] = 0\n",
    "plt.imshow(domain)"
   ]
  },
  {
   "cell_type": "code",
   "execution_count": 10,
   "metadata": {},
   "outputs": [
    {
     "name": "stdout",
     "output_type": "stream",
     "text": [
      "Pile sets as Pile master\n",
      "## Adding Grid ##\n",
      "## Grid added and is now simulation grid ##\n",
      "boreholes removed\n",
      "Borehole 1 goes below model limits, borehole 1 depth cut\n",
      "Borehole 1 added\n",
      "Borehole 2 added\n",
      "Borehole 3 added\n",
      "Borehole 4 added\n",
      "Borehole 5 added\n",
      "Borehole 6 added\n",
      "Property K added\n"
     ]
    }
   ],
   "source": [
    "T1 = Arch_table(name = \"P1\",seed=1)\n",
    "T1.set_Pile_master(P1)\n",
    "T1.add_grid(dimensions, spacing, origin, top=top,bot=bot,polygon=domain)\n",
    "T1.rem_all_bhs()\n",
    "T1.add_bh([bh1,bh2,bh3,bh4,bh5,bh6])\n",
    "T1.add_prop([permea])"
   ]
  },
  {
   "cell_type": "code",
   "execution_count": 11,
   "metadata": {},
   "outputs": [
    {
     "name": "stdout",
     "output_type": "stream",
     "text": [
      "##### ORDERING UNITS ##### \n",
      "Pile P1: ordering units\n",
      "Stratigraphic units have been sorted according to order\n",
      "Discrepency in the orders for units A and B\n",
      "Changing orders for that they range from 1 to n\n",
      "Pile PB: ordering units\n",
      "Stratigraphic units have been sorted according to order\n",
      "hierarchical relations set\n",
      "First altitude in log facies of bh 3 is not set at the top of the borehole, altitude changed\n",
      "Processing ended successfully\n"
     ]
    }
   ],
   "source": [
    "T1.process_bhs()"
   ]
  },
  {
   "cell_type": "code",
   "execution_count": 12,
   "metadata": {},
   "outputs": [
    {
     "name": "stdout",
     "output_type": "stream",
     "text": [
      "########## PILE P1 ##########\n",
      "Pile P1: ordering units\n",
      "Stratigraphic units have been sorted according to order\n",
      "\n",
      "#### COMPUTING SURFACE OF UNIT A\n",
      "Unit A has no inequality point, the interpolation method is switched to GRF\n",
      "A: time elapsed for computing surface 0.009007930755615234 s\n",
      "\n",
      "#### COMPUTING SURFACE OF UNIT B\n",
      "Geos-Classic running... [VERSION 2.0 / BUILD NUMBER 20220408 / OpenMP 7 thread(s)]\n",
      "Geos-Classic run complete\n",
      "B: time elapsed for computing surface 0.06083106994628906 s\n",
      "\n",
      "#### COMPUTING SURFACE OF UNIT C\n",
      "Geos-Classic running... [VERSION 2.0 / BUILD NUMBER 20220408 / OpenMP 7 thread(s)]\n",
      "Geos-Classic run complete\n",
      "C: time elapsed for computing surface 0.08377361297607422 s\n",
      "\n",
      "#### COMPUTING SURFACE OF UNIT D\n",
      "D: time elapsed for computing surface 0.0 s\n",
      "\n",
      "Time elapsed for getting domains 0.1017308235168457 s\n",
      "\n",
      "#### COMPUTING SURFACE OF UNIT A\n",
      "A: time elapsed for computing surface 0.010968446731567383 s\n",
      "\n",
      "#### COMPUTING SURFACE OF UNIT B\n",
      "Geos-Classic running... [VERSION 2.0 / BUILD NUMBER 20220408 / OpenMP 7 thread(s)]\n",
      "Geos-Classic run complete\n",
      "B: time elapsed for computing surface 0.05684852600097656 s\n",
      "\n",
      "#### COMPUTING SURFACE OF UNIT C\n",
      "Geos-Classic running... [VERSION 2.0 / BUILD NUMBER 20220408 / OpenMP 7 thread(s)]\n",
      "Geos-Classic run complete\n",
      "C: time elapsed for computing surface 0.07779264450073242 s\n",
      "\n",
      "#### COMPUTING SURFACE OF UNIT D\n",
      "D: time elapsed for computing surface 0.0 s\n",
      "\n",
      "Time elapsed for getting domains 0.10172843933105469 s\n",
      "\n",
      "#### COMPUTING SURFACE OF UNIT A\n",
      "A: time elapsed for computing surface 0.00698089599609375 s\n",
      "\n",
      "#### COMPUTING SURFACE OF UNIT B\n",
      "Geos-Classic running... [VERSION 2.0 / BUILD NUMBER 20220408 / OpenMP 7 thread(s)]\n",
      "Geos-Classic run complete\n",
      "B: time elapsed for computing surface 0.0468752384185791 s\n",
      "\n",
      "#### COMPUTING SURFACE OF UNIT C\n",
      "Geos-Classic running... [VERSION 2.0 / BUILD NUMBER 20220408 / OpenMP 7 thread(s)]\n",
      "Geos-Classic run complete\n",
      "C: time elapsed for computing surface 0.07779288291931152 s\n",
      "\n",
      "#### COMPUTING SURFACE OF UNIT D\n",
      "D: time elapsed for computing surface 0.0 s\n",
      "\n",
      "Time elapsed for getting domains 0.0967409610748291 s\n",
      "\n",
      "#### COMPUTING SURFACE OF UNIT A\n",
      "A: time elapsed for computing surface 0.009972810745239258 s\n",
      "\n",
      "#### COMPUTING SURFACE OF UNIT B\n",
      "Geos-Classic running... [VERSION 2.0 / BUILD NUMBER 20220408 / OpenMP 7 thread(s)]\n",
      "Geos-Classic run complete\n",
      "B: time elapsed for computing surface 0.05485367774963379 s\n",
      "\n",
      "#### COMPUTING SURFACE OF UNIT C\n",
      "Geos-Classic running... [VERSION 2.0 / BUILD NUMBER 20220408 / OpenMP 7 thread(s)]\n",
      "Geos-Classic run complete\n",
      "C: time elapsed for computing surface 0.07978653907775879 s\n",
      "\n",
      "#### COMPUTING SURFACE OF UNIT D\n",
      "D: time elapsed for computing surface 0.0 s\n",
      "\n",
      "Time elapsed for getting domains 0.10372257232666016 s\n",
      "\n",
      "#### COMPUTING SURFACE OF UNIT A\n",
      "A: time elapsed for computing surface 0.014960050582885742 s\n",
      "\n",
      "#### COMPUTING SURFACE OF UNIT B\n",
      "Geos-Classic running... [VERSION 2.0 / BUILD NUMBER 20220408 / OpenMP 7 thread(s)]\n",
      "Geos-Classic run complete\n",
      "B: time elapsed for computing surface 0.05285811424255371 s\n",
      "\n",
      "#### COMPUTING SURFACE OF UNIT C\n",
      "Geos-Classic running... [VERSION 2.0 / BUILD NUMBER 20220408 / OpenMP 7 thread(s)]\n",
      "Geos-Classic run complete\n",
      "C: time elapsed for computing surface 0.12466621398925781 s\n",
      "\n",
      "#### COMPUTING SURFACE OF UNIT D\n",
      "D: time elapsed for computing surface 0.0 s\n",
      "\n",
      "Time elapsed for getting domains 0.11469388008117676 s\n",
      "\n",
      "#### COMPUTING SURFACE OF UNIT A\n",
      "A: time elapsed for computing surface 0.008976221084594727 s\n",
      "\n",
      "#### COMPUTING SURFACE OF UNIT B\n",
      "Geos-Classic running... [VERSION 2.0 / BUILD NUMBER 20220408 / OpenMP 7 thread(s)]\n",
      "Geos-Classic run complete\n",
      "B: time elapsed for computing surface 0.06582212448120117 s\n",
      "\n",
      "#### COMPUTING SURFACE OF UNIT C\n",
      "Geos-Classic running... [VERSION 2.0 / BUILD NUMBER 20220408 / OpenMP 7 thread(s)]\n",
      "Geos-Classic run complete\n",
      "C: time elapsed for computing surface 0.09175372123718262 s\n",
      "\n",
      "#### COMPUTING SURFACE OF UNIT D\n",
      "D: time elapsed for computing surface 0.0 s\n",
      "\n",
      "Time elapsed for getting domains 0.09973335266113281 s\n",
      "\n",
      "#### COMPUTING SURFACE OF UNIT A\n",
      "A: time elapsed for computing surface 0.009972095489501953 s\n",
      "\n",
      "#### COMPUTING SURFACE OF UNIT B\n",
      "Geos-Classic running... [VERSION 2.0 / BUILD NUMBER 20220408 / OpenMP 7 thread(s)]\n",
      "Geos-Classic run complete\n",
      "B: time elapsed for computing surface 0.08178043365478516 s\n",
      "\n",
      "#### COMPUTING SURFACE OF UNIT C\n",
      "Geos-Classic running... [VERSION 2.0 / BUILD NUMBER 20220408 / OpenMP 7 thread(s)]\n",
      "Geos-Classic run complete\n",
      "C: time elapsed for computing surface 0.14162206649780273 s\n",
      "\n",
      "#### COMPUTING SURFACE OF UNIT D\n",
      "D: time elapsed for computing surface 0.0 s\n",
      "\n",
      "Time elapsed for getting domains 0.1077122688293457 s\n",
      "\n",
      "#### COMPUTING SURFACE OF UNIT A\n",
      "A: time elapsed for computing surface 0.00797891616821289 s\n",
      "\n",
      "#### COMPUTING SURFACE OF UNIT B\n",
      "Geos-Classic running... [VERSION 2.0 / BUILD NUMBER 20220408 / OpenMP 7 thread(s)]\n",
      "Geos-Classic run complete\n",
      "B: time elapsed for computing surface 0.06283235549926758 s\n",
      "\n",
      "#### COMPUTING SURFACE OF UNIT C\n",
      "Geos-Classic running... [VERSION 2.0 / BUILD NUMBER 20220408 / OpenMP 7 thread(s)]\n",
      "Geos-Classic run complete\n",
      "C: time elapsed for computing surface 0.0907583236694336 s\n",
      "\n",
      "#### COMPUTING SURFACE OF UNIT D\n",
      "D: time elapsed for computing surface 0.0 s\n",
      "\n",
      "Time elapsed for getting domains 0.11768555641174316 s\n",
      "\n",
      "#### COMPUTING SURFACE OF UNIT A\n",
      "A: time elapsed for computing surface 0.01795339584350586 s\n",
      "\n",
      "#### COMPUTING SURFACE OF UNIT B\n",
      "Geos-Classic running... [VERSION 2.0 / BUILD NUMBER 20220408 / OpenMP 7 thread(s)]\n",
      "Geos-Classic run complete\n",
      "B: time elapsed for computing surface 0.07579588890075684 s\n",
      "\n",
      "#### COMPUTING SURFACE OF UNIT C\n",
      "Geos-Classic running... [VERSION 2.0 / BUILD NUMBER 20220408 / OpenMP 7 thread(s)]\n",
      "Geos-Classic run complete\n",
      "C: time elapsed for computing surface 0.08178162574768066 s\n",
      "\n",
      "#### COMPUTING SURFACE OF UNIT D\n",
      "D: time elapsed for computing surface 0.0 s\n",
      "\n",
      "Time elapsed for getting domains 0.10471892356872559 s\n",
      "\n",
      "#### COMPUTING SURFACE OF UNIT A\n",
      "A: time elapsed for computing surface 0.007979393005371094 s\n",
      "\n",
      "#### COMPUTING SURFACE OF UNIT B\n",
      "Geos-Classic running... [VERSION 2.0 / BUILD NUMBER 20220408 / OpenMP 7 thread(s)]\n",
      "Geos-Classic run complete\n",
      "B: time elapsed for computing surface 0.05285763740539551 s\n",
      "\n",
      "#### COMPUTING SURFACE OF UNIT C\n",
      "Geos-Classic running... [VERSION 2.0 / BUILD NUMBER 20220408 / OpenMP 7 thread(s)]\n",
      "Geos-Classic run complete\n",
      "C: time elapsed for computing surface 0.08377456665039062 s\n",
      "\n",
      "#### COMPUTING SURFACE OF UNIT D\n",
      "D: time elapsed for computing surface 0.0 s\n",
      "\n",
      "Time elapsed for getting domains 0.10372281074523926 s\n",
      "##########################\n",
      "\n",
      "########## PILE PB ##########\n",
      "Pile PB: ordering units\n",
      "Stratigraphic units have been sorted according to order\n",
      "\n",
      "#### COMPUTING SURFACE OF UNIT B1\n",
      "Geos-Classic running... [VERSION 2.0 / BUILD NUMBER 20220408 / OpenMP 7 thread(s)]\n",
      "Geos-Classic run complete\n",
      "B1: time elapsed for computing surface 0.05286002159118652 s\n",
      "\n",
      "#### COMPUTING SURFACE OF UNIT B2\n",
      "Geos-Classic running... [VERSION 2.0 / BUILD NUMBER 20220408 / OpenMP 7 thread(s)]\n",
      "Geos-Classic run complete\n",
      "B2: time elapsed for computing surface 0.06682157516479492 s\n",
      "\n",
      "#### COMPUTING SURFACE OF UNIT B3\n",
      "B3: time elapsed for computing surface 0.0 s\n",
      "\n",
      "Time elapsed for getting domains 0.0827782154083252 s\n",
      "\n",
      "#### COMPUTING SURFACE OF UNIT B1\n",
      "Geos-Classic running... [VERSION 2.0 / BUILD NUMBER 20220408 / OpenMP 7 thread(s)]\n",
      "Geos-Classic run complete\n",
      "B1: time elapsed for computing surface 0.08876299858093262 s\n",
      "\n",
      "#### COMPUTING SURFACE OF UNIT B2\n",
      "Geos-Classic running... [VERSION 2.0 / BUILD NUMBER 20220408 / OpenMP 7 thread(s)]\n",
      "Geos-Classic run complete\n",
      "B2: time elapsed for computing surface 0.07679343223571777 s\n",
      "\n",
      "#### COMPUTING SURFACE OF UNIT B3\n",
      "B3: time elapsed for computing surface 0.0 s\n",
      "\n",
      "Time elapsed for getting domains 0.08477354049682617 s\n",
      "\n",
      "#### COMPUTING SURFACE OF UNIT B1\n",
      "Geos-Classic running... [VERSION 2.0 / BUILD NUMBER 20220408 / OpenMP 7 thread(s)]\n",
      "Geos-Classic run complete\n",
      "B1: time elapsed for computing surface 0.1436152458190918 s\n",
      "\n",
      "#### COMPUTING SURFACE OF UNIT B2\n",
      "Geos-Classic running... [VERSION 2.0 / BUILD NUMBER 20220408 / OpenMP 7 thread(s)]\n",
      "Geos-Classic run complete\n",
      "B2: time elapsed for computing surface 0.06183481216430664 s\n",
      "\n",
      "#### COMPUTING SURFACE OF UNIT B3\n",
      "B3: time elapsed for computing surface 0.0 s\n",
      "\n",
      "Time elapsed for getting domains 0.08178186416625977 s\n",
      "\n",
      "#### COMPUTING SURFACE OF UNIT B1\n",
      "Geos-Classic running... [VERSION 2.0 / BUILD NUMBER 20220408 / OpenMP 7 thread(s)]\n"
     ]
    },
    {
     "name": "stdout",
     "output_type": "stream",
     "text": [
      "Geos-Classic run complete\n",
      "B1: time elapsed for computing surface 0.05884265899658203 s\n",
      "\n",
      "#### COMPUTING SURFACE OF UNIT B2\n",
      "Geos-Classic running... [VERSION 2.0 / BUILD NUMBER 20220408 / OpenMP 7 thread(s)]\n",
      "Geos-Classic run complete\n",
      "B2: time elapsed for computing surface 0.056847572326660156 s\n",
      "\n",
      "#### COMPUTING SURFACE OF UNIT B3\n",
      "B3: time elapsed for computing surface 0.0 s\n",
      "\n",
      "Time elapsed for getting domains 0.0827789306640625 s\n",
      "\n",
      "#### COMPUTING SURFACE OF UNIT B1\n",
      "Geos-Classic running... [VERSION 2.0 / BUILD NUMBER 20220408 / OpenMP 7 thread(s)]\n",
      "Geos-Classic run complete\n",
      "B1: time elapsed for computing surface 0.0578458309173584 s\n",
      "\n",
      "#### COMPUTING SURFACE OF UNIT B2\n",
      "Geos-Classic running... [VERSION 2.0 / BUILD NUMBER 20220408 / OpenMP 7 thread(s)]\n",
      "Geos-Classic run complete\n",
      "B2: time elapsed for computing surface 0.06283211708068848 s\n",
      "\n",
      "#### COMPUTING SURFACE OF UNIT B3\n",
      "B3: time elapsed for computing surface 0.0 s\n",
      "\n",
      "Time elapsed for getting domains 0.08377623558044434 s\n",
      "\n",
      "#### COMPUTING SURFACE OF UNIT B1\n",
      "Geos-Classic running... [VERSION 2.0 / BUILD NUMBER 20220408 / OpenMP 7 thread(s)]\n",
      "Geos-Classic run complete\n",
      "B1: time elapsed for computing surface 0.06283164024353027 s\n",
      "\n",
      "#### COMPUTING SURFACE OF UNIT B2\n",
      "Geos-Classic running... [VERSION 2.0 / BUILD NUMBER 20220408 / OpenMP 7 thread(s)]\n",
      "Geos-Classic run complete\n",
      "B2: time elapsed for computing surface 0.06582403182983398 s\n",
      "\n",
      "#### COMPUTING SURFACE OF UNIT B3\n",
      "B3: time elapsed for computing surface 0.0 s\n",
      "\n",
      "Time elapsed for getting domains 0.11369705200195312 s\n",
      "\n",
      "#### COMPUTING SURFACE OF UNIT B1\n",
      "Geos-Classic running... [VERSION 2.0 / BUILD NUMBER 20220408 / OpenMP 7 thread(s)]\n",
      "Geos-Classic run complete\n",
      "B1: time elapsed for computing surface 0.06482601165771484 s\n",
      "\n",
      "#### COMPUTING SURFACE OF UNIT B2\n",
      "Geos-Classic running... [VERSION 2.0 / BUILD NUMBER 20220408 / OpenMP 7 thread(s)]\n",
      "Geos-Classic run complete\n",
      "B2: time elapsed for computing surface 0.07180929183959961 s\n",
      "\n",
      "#### COMPUTING SURFACE OF UNIT B3\n",
      "B3: time elapsed for computing surface 0.0 s\n",
      "\n",
      "Time elapsed for getting domains 0.07978534698486328 s\n",
      "\n",
      "#### COMPUTING SURFACE OF UNIT B1\n",
      "Geos-Classic running... [VERSION 2.0 / BUILD NUMBER 20220408 / OpenMP 7 thread(s)]\n",
      "Geos-Classic run complete\n",
      "B1: time elapsed for computing surface 0.05585217475891113 s\n",
      "\n",
      "#### COMPUTING SURFACE OF UNIT B2\n",
      "Geos-Classic running... [VERSION 2.0 / BUILD NUMBER 20220408 / OpenMP 7 thread(s)]\n",
      "Geos-Classic run complete\n",
      "B2: time elapsed for computing surface 0.05086374282836914 s\n",
      "\n",
      "#### COMPUTING SURFACE OF UNIT B3\n",
      "B3: time elapsed for computing surface 0.0 s\n",
      "\n",
      "Time elapsed for getting domains 0.08477401733398438 s\n",
      "\n",
      "#### COMPUTING SURFACE OF UNIT B1\n",
      "Geos-Classic running... [VERSION 2.0 / BUILD NUMBER 20220408 / OpenMP 7 thread(s)]\n",
      "Geos-Classic run complete\n",
      "B1: time elapsed for computing surface 0.05285906791687012 s\n",
      "\n",
      "#### COMPUTING SURFACE OF UNIT B2\n",
      "Geos-Classic running... [VERSION 2.0 / BUILD NUMBER 20220408 / OpenMP 7 thread(s)]\n",
      "Geos-Classic run complete\n",
      "B2: time elapsed for computing surface 0.05285763740539551 s\n",
      "\n",
      "#### COMPUTING SURFACE OF UNIT B3\n",
      "B3: time elapsed for computing surface 0.0 s\n",
      "\n",
      "Time elapsed for getting domains 0.06382989883422852 s\n",
      "\n",
      "#### COMPUTING SURFACE OF UNIT B1\n",
      "Geos-Classic running... [VERSION 2.0 / BUILD NUMBER 20220408 / OpenMP 7 thread(s)]\n",
      "Geos-Classic run complete\n",
      "B1: time elapsed for computing surface 0.05385565757751465 s\n",
      "\n",
      "#### COMPUTING SURFACE OF UNIT B2\n",
      "Geos-Classic running... [VERSION 2.0 / BUILD NUMBER 20220408 / OpenMP 7 thread(s)]\n",
      "Geos-Classic run complete\n",
      "B2: time elapsed for computing surface 0.05285978317260742 s\n",
      "\n",
      "#### COMPUTING SURFACE OF UNIT B3\n",
      "B3: time elapsed for computing surface 0.0 s\n",
      "\n",
      "Time elapsed for getting domains 0.0857701301574707 s\n",
      "##########################\n",
      "\n",
      "\n",
      "### 5.055486440658569: Total time elapsed for computing surfaces ###\n"
     ]
    }
   ],
   "source": [
    "T1.compute_surf(10, fl_top = True)"
   ]
  },
  {
   "cell_type": "markdown",
   "metadata": {},
   "source": [
    "### Plotting units\n",
    "\n",
    "ArchPy integrates multiple plotting utilities that mostly rely on Pyvista and Geone.\n",
    "Below are some examples"
   ]
  },
  {
   "cell_type": "code",
   "execution_count": 13,
   "metadata": {},
   "outputs": [
    {
     "name": "stderr",
     "output_type": "stream",
     "text": [
      "C:\\Users\\schorppl\\Anaconda3\\envs\\hydro\\lib\\site-packages\\pyvista\\core\\dataset.py:1335: PyvistaDeprecationWarning: Use of `cell_arrays` is deprecated. Use `cell_data` instead.\n",
      "  PyvistaDeprecationWarning\n"
     ]
    },
    {
     "data": {
      "application/vnd.jupyter.widget-view+json": {
       "model_id": "d95fd06fcfc44ca5ada76f28c32eedef",
       "version_major": 2,
       "version_minor": 0
      },
      "text/plain": [
       "ViewInteractiveWidget(height=768, layout=Layout(height='auto', width='100%'), width=1024)"
      ]
     },
     "metadata": {},
     "output_type": "display_data"
    }
   ],
   "source": [
    "p = pv.Plotter()\n",
    "v_ex = 0.1\n",
    "\n",
    "T1.plot_units(0, v_ex=v_ex, plotter=p, slicex=(0.2, 0.5, 0.8), slicey=(0.2, 0.5, 0.8))\n",
    "T1.plot_bhs(plotter=p, v_ex=v_ex)\n",
    "p.show()"
   ]
  },
  {
   "cell_type": "code",
   "execution_count": 14,
   "metadata": {},
   "outputs": [
    {
     "data": {
      "image/png": "[encoded data removed]",
      "text/plain": [
       "<Figure size 720x720 with 1 Axes>"
      ]
     },
     "metadata": {
      "needs_background": "light"
     },
     "output_type": "display_data"
    }
   ],
   "source": [
    "#cross section\n",
    "#first a list of points must be defined\n",
    "p1 = [1,1]\n",
    "p2 = [5,7]\n",
    "p3 = [15,9]\n",
    "T1.plot_cross_section([p1,p2,p3],iu=0,ratio_aspect=2)"
   ]
  },
  {
   "cell_type": "markdown",
   "metadata": {},
   "source": [
    "ArchPy also integrates probability plotting functions which allow to plot any ArchPy object such as units or facies"
   ]
  },
  {
   "cell_type": "code",
   "execution_count": 15,
   "metadata": {},
   "outputs": [
    {
     "data": {
      "application/vnd.jupyter.widget-view+json": {
       "model_id": "4b9fcd3ba53b40a4a21576664c38a934",
       "version_major": 2,
       "version_minor": 0
      },
      "text/plain": [
       "ViewInteractiveWidget(height=768, layout=Layout(height='auto', width='100%'), width=1024)"
      ]
     },
     "metadata": {},
     "output_type": "display_data"
    }
   ],
   "source": [
    "T1.plot_proba(C,v_ex=0.1)"
   ]
  },
  {
   "cell_type": "code",
   "execution_count": 16,
   "metadata": {
    "scrolled": true
   },
   "outputs": [
    {
     "name": "stdout",
     "output_type": "stream",
     "text": [
      "\n",
      "### Unit D: facies simulation with TPGs method ####\n",
      "### Unit D - realization 0 ###\n",
      "### Unit D - realization 1 ###\n",
      "### Unit D - realization 2 ###\n",
      "### Unit D - realization 3 ###\n",
      "### Unit D - realization 4 ###\n",
      "### Unit D - realization 5 ###\n",
      "### Unit D - realization 6 ###\n",
      "### Unit D - realization 7 ###\n",
      "### Unit D - realization 8 ###\n",
      "### Unit D - realization 9 ###\n",
      "Time elapsed 17.6 s\n",
      "\n",
      "### Unit C: facies simulation with SIS method ####\n",
      "### Unit C - realization 0 ###\n",
      "Some errors have been found \n",
      "Some facies were found inside units where they shouldn't be \n",
      "\n",
      "### List of errors ####\n",
      "Facies basement: 1 points\n",
      "\n",
      "\n",
      "Only one facies covmodels for multiples facies, adapt sill to right proportions\n",
      "### Unit C - realization 1 ###\n",
      "Some errors have been found \n",
      "Some facies were found inside units where they shouldn't be \n",
      "\n",
      "### List of errors ####\n",
      "Facies Gravel: 1 points\n",
      "\n",
      "\n",
      "### Unit C - realization 2 ###\n",
      "Some errors have been found \n",
      "Some facies were found inside units where they shouldn't be \n",
      "\n",
      "### List of errors ####\n",
      "Facies SM: 1 points\n",
      "\n",
      "\n",
      "### Unit C - realization 3 ###\n",
      "### Unit C - realization 4 ###\n",
      "### Unit C - realization 5 ###\n",
      "### Unit C - realization 6 ###\n",
      "### Unit C - realization 7 ###\n",
      "Some errors have been found \n",
      "Some facies were found inside units where they shouldn't be \n",
      "\n",
      "### List of errors ####\n",
      "Facies SM: 1 points\n",
      "\n",
      "\n",
      "### Unit C - realization 8 ###\n",
      "Some errors have been found \n",
      "Some facies were found inside units where they shouldn't be \n",
      "\n",
      "### List of errors ####\n",
      "Facies basement: 1 points\n",
      "\n",
      "\n",
      "### Unit C - realization 9 ###\n",
      "Some errors have been found \n",
      "Some facies were found inside units where they shouldn't be \n",
      "\n",
      "### List of errors ####\n",
      "Facies SM: 1 points\n",
      "\n",
      "\n",
      "Time elapsed 5.37 s\n",
      "\n",
      "### Unit B: facies simulation with SubPile method ####\n",
      "SubPile filling method, nothing happened\n",
      "Time elapsed 0.02 s\n",
      "\n",
      "### Unit A: facies simulation with homogenous method ####\n",
      "### Unit A - realization 0 ###\n",
      "### Unit A - realization 1 ###\n",
      "### Unit A - realization 2 ###\n",
      "### Unit A - realization 3 ###\n",
      "### Unit A - realization 4 ###\n",
      "### Unit A - realization 5 ###\n",
      "### Unit A - realization 6 ###\n",
      "### Unit A - realization 7 ###\n",
      "### Unit A - realization 8 ###\n",
      "### Unit A - realization 9 ###\n",
      "Time elapsed 0.13 s\n",
      "\n",
      "### Unit B3: facies simulation with SIS method ####\n",
      "### Unit B3 - realization 0 ###\n",
      "Some errors have been found \n",
      "Some facies were found inside units where they shouldn't be \n",
      "\n",
      "### List of errors ####\n",
      "Facies Silt: 1 points\n",
      "\n",
      "\n",
      "Only one facies covmodels for multiples facies, adapt sill to right proportions\n",
      "### Unit B3 - realization 1 ###\n",
      "### Unit B3 - realization 2 ###\n",
      "### Unit B3 - realization 3 ###\n",
      "### Unit B3 - realization 4 ###\n",
      "### Unit B3 - realization 5 ###\n",
      "Some errors have been found \n",
      "Some facies were found inside units where they shouldn't be \n",
      "\n",
      "### List of errors ####\n",
      "Facies Silt: 1 points\n",
      "\n",
      "\n",
      "### Unit B3 - realization 6 ###\n",
      "### Unit B3 - realization 7 ###\n",
      "### Unit B3 - realization 8 ###\n",
      "### Unit B3 - realization 9 ###\n",
      "Some errors have been found \n",
      "Some facies were found inside units where they shouldn't be \n",
      "\n",
      "### List of errors ####\n",
      "Facies Silt: 1 points\n",
      "\n",
      "\n",
      "Time elapsed 8.75 s\n",
      "\n",
      "### Unit B2: facies simulation with SIS method ####\n",
      "### Unit B2 - realization 0 ###\n",
      "Only one facies covmodels for multiples facies, adapt sill to right proportions\n",
      "### Unit B2 - realization 1 ###\n",
      "### Unit B2 - realization 2 ###\n",
      "### Unit B2 - realization 3 ###\n",
      "### Unit B2 - realization 4 ###\n",
      "### Unit B2 - realization 5 ###\n",
      "### Unit B2 - realization 6 ###\n",
      "### Unit B2 - realization 7 ###\n",
      "### Unit B2 - realization 8 ###\n",
      "### Unit B2 - realization 9 ###\n",
      "Time elapsed 6.07 s\n",
      "\n",
      "### Unit B1: facies simulation with SIS method ####\n",
      "### Unit B1 - realization 0 ###\n",
      "Only one facies covmodels for multiples facies, adapt sill to right proportions\n",
      "### Unit B1 - realization 1 ###\n",
      "Some errors have been found \n",
      "Some facies were found inside units where they shouldn't be \n",
      "\n",
      "### List of errors ####\n",
      "Facies basement: 1 points\n",
      "\n",
      "\n",
      "### Unit B1 - realization 2 ###\n",
      "### Unit B1 - realization 3 ###\n",
      "### Unit B1 - realization 4 ###\n",
      "Some errors have been found \n",
      "Some facies were found inside units where they shouldn't be \n",
      "\n",
      "### List of errors ####\n",
      "Facies basement: 1 points\n",
      "\n",
      "\n",
      "### Unit B1 - realization 5 ###\n",
      "### Unit B1 - realization 6 ###\n",
      "### Unit B1 - realization 7 ###\n",
      "Some errors have been found \n",
      "Some facies were found inside units where they shouldn't be \n",
      "\n",
      "### List of errors ####\n",
      "Facies basement: 1 points\n",
      "\n",
      "\n",
      "### Unit B1 - realization 8 ###\n",
      "Some errors have been found \n",
      "Some facies were found inside units where they shouldn't be \n",
      "\n",
      "### List of errors ####\n",
      "Facies basement: 1 points\n",
      "\n",
      "\n",
      "### Unit B1 - realization 9 ###\n",
      "Time elapsed 8.26 s\n",
      "\n",
      "### 46.2: Total time elapsed for computing facies ###\n"
     ]
    }
   ],
   "source": [
    "T1.compute_facies(1, verbose_methods=0)"
   ]
  },
  {
   "cell_type": "code",
   "execution_count": 17,
   "metadata": {},
   "outputs": [
    {
     "name": "stderr",
     "output_type": "stream",
     "text": [
      "C:\\Users\\schorppl\\Anaconda3\\envs\\hydro\\lib\\site-packages\\pyvista\\core\\dataset.py:1335: PyvistaDeprecationWarning: Use of `cell_arrays` is deprecated. Use `cell_data` instead.\n",
      "  PyvistaDeprecationWarning\n"
     ]
    },
    {
     "data": {
      "application/vnd.jupyter.widget-view+json": {
       "model_id": "fb203f4843954502840b28558ce5d779",
       "version_major": 2,
       "version_minor": 0
      },
      "text/plain": [
       "ViewInteractiveWidget(height=768, layout=Layout(height='auto', width='100%'), width=1024)"
      ]
     },
     "metadata": {},
     "output_type": "display_data"
    }
   ],
   "source": [
    "T1.plot_facies(v_ex=v_ex)"
   ]
  },
  {
   "cell_type": "code",
   "execution_count": 18,
   "metadata": {},
   "outputs": [
    {
     "data": {
      "application/vnd.jupyter.widget-view+json": {
       "model_id": "b76c309079864d9c8ad55248f82a3110",
       "version_major": 2,
       "version_minor": 0
      },
      "text/plain": [
       "ViewInteractiveWidget(height=768, layout=Layout(height='auto', width='100%'), width=1024)"
      ]
     },
     "metadata": {},
     "output_type": "display_data"
    }
   ],
   "source": [
    "T1.plot_facies(0,0,inside_units=[B1], v_ex=v_ex)"
   ]
  },
  {
   "cell_type": "code",
   "execution_count": 19,
   "metadata": {},
   "outputs": [
    {
     "data": {
      "application/vnd.jupyter.widget-view+json": {
       "model_id": "a35e9377a6bf47fd9851fc1e1a457542",
       "version_major": 2,
       "version_minor": 0
      },
      "text/plain": [
       "ViewInteractiveWidget(height=768, layout=Layout(height='auto', width='100%'), width=1024)"
      ]
     },
     "metadata": {},
     "output_type": "display_data"
    }
   ],
   "source": [
    "T1.plot_proba(facies_1,filtering_interval=[0.1,1],slicex=0.5,slicey=0.5,slicez=0.5, v_ex=v_ex) # sand"
   ]
  },
  {
   "cell_type": "markdown",
   "metadata": {},
   "source": [
    "Property hard data can be passed by a list of coordinates and values"
   ]
  },
  {
   "cell_type": "code",
   "execution_count": 20,
   "metadata": {},
   "outputs": [],
   "source": [
    "#prop hd\n",
    "\n",
    "ix = np.arange(x0, nx*sx+x0, sx)\n",
    "n = len(ix)\n",
    "x_hd = np.array((ix, np.ones(n)*5, np.ones(n)*-10)).T\n",
    "v = np.ones(n)*-1"
   ]
  },
  {
   "cell_type": "code",
   "execution_count": 21,
   "metadata": {},
   "outputs": [],
   "source": [
    "permea.x = None\n",
    "permea.v = None"
   ]
  },
  {
   "cell_type": "code",
   "execution_count": 22,
   "metadata": {},
   "outputs": [],
   "source": [
    "permea.add_hd(x_hd, v)"
   ]
  },
  {
   "cell_type": "code",
   "execution_count": 23,
   "metadata": {
    "scrolled": true
   },
   "outputs": [
    {
     "name": "stdout",
     "output_type": "stream",
     "text": [
      "### 20 K property models will be modeled ###\n",
      "homogenous method chosen ! Warning: Some HD cannot be respected\n",
      "homogenous method chosen ! Warning: Some HD cannot be respected\n",
      "### 2 K models done\n",
      "homogenous method chosen ! Warning: Some HD cannot be respected\n",
      "homogenous method chosen ! Warning: Some HD cannot be respected\n",
      "### 4 K models done\n",
      "homogenous method chosen ! Warning: Some HD cannot be respected\n",
      "homogenous method chosen ! Warning: Some HD cannot be respected\n",
      "### 6 K models done\n",
      "homogenous method chosen ! Warning: Some HD cannot be respected\n",
      "homogenous method chosen ! Warning: Some HD cannot be respected\n",
      "### 8 K models done\n",
      "homogenous method chosen ! Warning: Some HD cannot be respected\n",
      "homogenous method chosen ! Warning: Some HD cannot be respected\n",
      "### 10 K models done\n",
      "homogenous method chosen ! Warning: Some HD cannot be respected\n",
      "homogenous method chosen ! Warning: Some HD cannot be respected\n",
      "### 12 K models done\n",
      "homogenous method chosen ! Warning: Some HD cannot be respected\n",
      "homogenous method chosen ! Warning: Some HD cannot be respected\n",
      "### 14 K models done\n",
      "homogenous method chosen ! Warning: Some HD cannot be respected\n",
      "homogenous method chosen ! Warning: Some HD cannot be respected\n",
      "### 16 K models done\n",
      "homogenous method chosen ! Warning: Some HD cannot be respected\n",
      "homogenous method chosen ! Warning: Some HD cannot be respected\n",
      "### 18 K models done\n",
      "homogenous method chosen ! Warning: Some HD cannot be respected\n",
      "homogenous method chosen ! Warning: Some HD cannot be respected\n",
      "### 20 K models done\n"
     ]
    }
   ],
   "source": [
    "T1.compute_prop(2)"
   ]
  },
  {
   "cell_type": "code",
   "execution_count": 24,
   "metadata": {},
   "outputs": [
    {
     "data": {
      "application/vnd.jupyter.widget-view+json": {
       "model_id": "9157790bb12d41ce8b7a51d3c6198399",
       "version_major": 2,
       "version_minor": 0
      },
      "text/plain": [
       "ViewInteractiveWidget(height=768, layout=Layout(height='auto', width='100%'), width=1024)"
      ]
     },
     "metadata": {},
     "output_type": "display_data"
    }
   ],
   "source": [
    "T1.plot_prop(permea.name, 0, slicex=0.5,slicey=0.5,slicez=0.5, v_ex=v_ex)"
   ]
  },
  {
   "cell_type": "code",
   "execution_count": 25,
   "metadata": {},
   "outputs": [],
   "source": [
    "#property values can be retrieve with getprop method\n",
    "K = T1.getprop(\"K\")"
   ]
  },
  {
   "cell_type": "code",
   "execution_count": 26,
   "metadata": {},
   "outputs": [
    {
     "name": "stdout",
     "output_type": "stream",
     "text": [
      "point outside of the grid in x\n",
      "-10.0\n",
      "-10.0\n",
      "-10.0\n",
      "-10.0\n",
      "-10.0\n",
      "-10.0\n",
      "-1.0\n",
      "-1.0\n",
      "-1.0\n",
      "-1.0\n",
      "-1.0\n",
      "-1.0\n",
      "-1.0\n",
      "-1.0\n",
      "-1.0\n",
      "-1.0\n",
      "-1.0\n",
      "-1.0\n",
      "-1.0\n",
      "-1.0\n",
      "-1.0\n",
      "-1.0\n",
      "-1.0\n",
      "-1.0\n",
      "-1.0\n",
      "-1.0\n",
      "-1.0\n",
      "-1.0\n",
      "-1.0\n",
      "-1.0\n",
      "-1.0\n",
      "-1.0\n",
      "-1.0\n",
      "-1.0\n",
      "-1.0\n",
      "-1.0\n",
      "-1.0\n",
      "-10.0\n",
      "-10.0\n",
      "-10.0\n",
      "-10.0\n",
      "-10.0\n",
      "-10.0\n",
      "-10.0\n",
      "-10.0\n",
      "-10.0\n",
      "-10.0\n",
      "-10.0\n",
      "-10.0\n",
      "-10.0\n",
      "-10.0\n",
      "-10.0\n",
      "-10.0\n",
      "-10.0\n",
      "-10.0\n",
      "-10.0\n",
      "-10.0\n",
      "-10.0\n",
      "-10.0\n",
      "-1.0\n",
      "-1.0\n",
      "-1.0\n",
      "-1.0\n",
      "-1.0\n",
      "-1.0\n",
      "-1.0\n",
      "-1.0\n",
      "-1.0\n",
      "-0.6801704967784379\n",
      "-1.0\n",
      "-1.0\n",
      "-1.0\n",
      "-1.0\n",
      "-0.7658185593876974\n",
      "-1.0\n",
      "-1.0\n",
      "-1.0\n",
      "-1.0\n",
      "-1.1153124010669697\n",
      "-1.0\n",
      "-1.0\n",
      "-1.0\n",
      "-1.0\n",
      "-0.7114646340439053\n",
      "-1.0\n",
      "-1.0\n",
      "-1.0\n",
      "-1.0\n",
      "-8.0\n",
      "-8.0\n",
      "-8.0\n",
      "-8.0\n",
      "-8.0\n",
      "-8.0\n",
      "-8.0\n",
      "-8.0\n",
      "-8.0\n",
      "-8.0\n",
      "-8.0\n",
      "-8.0\n",
      "-8.0\n",
      "-8.0\n",
      "-8.0\n",
      "-8.0\n",
      "-8.0\n",
      "-8.0\n",
      "-8.0\n",
      "-8.0\n",
      "-8.0\n",
      "-8.0\n",
      "-8.0\n",
      "-1.0\n",
      "-1.0\n",
      "-8.0\n",
      "-1.0\n",
      "-1.0\n",
      "-1.0\n",
      "-1.0\n",
      "-1.0\n",
      "-1.0\n",
      "-1.0\n",
      "-8.0\n",
      "-8.0\n",
      "-8.0\n",
      "-1.0\n",
      "-1.0\n",
      "-1.0\n",
      "-1.0\n",
      "-1.0\n",
      "-1.0\n",
      "-1.0\n",
      "-1.0\n"
     ]
    }
   ],
   "source": [
    "#check HD\n",
    "for x,y,z in x_hd:\n",
    "    idx = T1.coord2cell(x, y, z)\n",
    "    if idx is not None:\n",
    "        print(K[2,0,0][idx])\n",
    "\n",
    "#Some results are not respected (-10) due to the homogenous method applied on A unit"
   ]
  },
  {
   "cell_type": "code",
   "execution_count": 27,
   "metadata": {},
   "outputs": [
    {
     "name": "stderr",
     "output_type": "stream",
     "text": [
      "../..\\ArchPy\\base.py:3452: RuntimeWarning: Mean of empty slice\n",
      "  arr=np.nanmean(prop.reshape(-1,self.get_nz(),self.get_ny(),self.get_nx()),axis=0)\n"
     ]
    },
    {
     "data": {
      "application/vnd.jupyter.widget-view+json": {
       "model_id": "8d1e049f6e044a6ebe4e4ccd9982d3b9",
       "version_major": 2,
       "version_minor": 0
      },
      "text/plain": [
       "ViewInteractiveWidget(height=768, layout=Layout(height='auto', width='100%'), width=1024)"
      ]
     },
     "metadata": {},
     "output_type": "display_data"
    }
   ],
   "source": [
    "T1.plot_mean_prop(\"K\", slicey = 0.5, v_ex=0.5)"
   ]
  },
  {
   "cell_type": "code",
   "execution_count": null,
   "metadata": {},
   "outputs": [],
   "source": []
  }
 ],
 "metadata": {
  "kernelspec": {
   "display_name": "Python 3 (ipykernel)",
   "language": "python",
   "name": "python3"
  },
  "language_info": {
   "codemirror_mode": {
    "name": "ipython",
    "version": 3
   },
   "file_extension": ".py",
   "mimetype": "text/x-python",
   "name": "python",
   "nbconvert_exporter": "python",
   "pygments_lexer": "ipython3",
   "version": "3.7.11"
  }
 },
 "nbformat": 4,
 "nbformat_minor": 2
}
