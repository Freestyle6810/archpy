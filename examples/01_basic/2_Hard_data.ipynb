{
 "cells": [
  {
   "cell_type": "markdown",
   "metadata": {},
   "source": [
    "# Tutorial 2: hard data files"
   ]
  },
  {
   "cell_type": "code",
   "execution_count": 1,
   "metadata": {},
   "outputs": [
    {
     "name": "stdout",
     "output_type": "stream",
     "text": [
      "ArchPy not installed\n"
     ]
    }
   ],
   "source": [
    "import numpy as np\n",
    "import matplotlib.pyplot as plt\n",
    "import geone\n",
    "import geone.covModel as gcm\n",
    "import os\n",
    "import sys\n",
    "import pyvista as pv\n",
    "pv.set_jupyter_backend('static')\n",
    "import pandas as pd\n",
    "\n",
    "try:\n",
    "    import ArchPy\n",
    "except: # if ArchPy is not installed\n",
    "    print(\"ArchPy not installed\")\n",
    "    sys.path.append(\"../..\")\n",
    "    import ArchPy"
   ]
  },
  {
   "cell_type": "markdown",
   "metadata": {},
   "source": [
    "## Introduction\n",
    "\n",
    "This notebook present how to load and import hard data files (boreholes) with ArchPy.\n",
    "\n",
    "For this ArchPy requires three different data files which are text files. A list of borholes, a list of unit data and a list of facies data.\n",
    "\n",
    "They can have any extensions but the recommended are :\n",
    "\n",
    "list of boreholes  -> ``.lbh``\n",
    "\n",
    "list of unit data  -> ``.ud``\n",
    "\n",
    "list of facies data  -> ``.fd``\n",
    "\n",
    "For this example, the files are in the 2_data_folder.\n",
    "\n",
    "We can detail these files :\n",
    "- ``.lbh`` : text file with five columns listing all the boreholes in the data. It has five columns and default headers are :\n",
    "    - bh_ID : borehole identifier to know at which borehole a unit/facies data belongs\n",
    "    - bh_x : x borehole coordinate\n",
    "    - bh_y : y borehole coordinate\n",
    "    - bh_z : z borehole coordinate\n",
    "    - bh_depth : borehole depth\n",
    "    \n",
    "    \n",
    "- ``.ud`` : text file with four columns listing all the stratigraphical unit interval data. Default headers are :\n",
    "    - bh_ID : borehole identifier to know at whcih borehole the unit data belongs\n",
    "    - Strat : Unit identifier to know at which unit this unit interval data belongs\n",
    "    - top   : top elevation of the interval\n",
    "    - bot   : bot elevation of the interval\n",
    "    \n",
    "    \n",
    "- ``.fd`` : text file with four columns listing all the facies interval data. Default headers are :\n",
    "    - bh_ID : borehole identifier to know at whcih borehole the unit data belongs\n",
    "    - facies_ID : facies identifier to know at which facies this facies interval data belongs\n",
    "    - top   : top elevation of the interval\n",
    "    - bot   : bot elevation of the interval\n"
   ]
  },
  {
   "cell_type": "code",
   "execution_count": 2,
   "metadata": {},
   "outputs": [],
   "source": [
    "#path to the files\n",
    "folder = \"2_data_folder\"\n",
    "l_bh_path = pd.read_csv(os.path.join(folder, \"IO_exemple.lbh\"))\n",
    "\n",
    "unit_data_path = pd.read_csv(os.path.join(folder, \"IO_exemple.ud\"))\n",
    "\n",
    "facies_data_path = pd.read_csv(os.path.join(folder, \"IO_exemple.fd\"))\n"
   ]
  },
  {
   "cell_type": "markdown",
   "metadata": {},
   "source": [
    "## First step : import\n",
    "\n",
    "### We can now import the geological database with the function : ``ArchPy.inputs.load_bh_files``\n",
    "\n",
    "This function takes the dataframe of the 3 inputs files as arguments but also column names if they are differents (e.g. bh_id_col which is by default \"bh_ID\" or u_top_col which is the name of the column indicating top elevation in .ud file).\n",
    "\n",
    "Dictionnaries can also be passed (``dic_units_names`` and ``dic_facies_names``) which will change units/facies names in database with associated values in dictionnary. For example, if a ``dic_units_names = {\"Lias\" : \"Jura\",  \"Dogger\" : \"Jura\", \"Malm\" : \"Jurassic\"}`` is passed, all unit names in keys will be replaced by \"Jurassic\". This can be useful to merge some facies or units if they are similar.\n",
    "\n",
    "Last parameter is ``altitude`` flag which indicates to ArchPy if elevation values in database are in altitude or not (depth if False).\n",
    "\n",
    "It returns two dataframes : the geological database (db) and the list of boreholes with columns properly renamed to be used in ``extract_bhs function``."
   ]
  },
  {
   "cell_type": "code",
   "execution_count": 3,
   "metadata": {},
   "outputs": [
    {
     "data": {
      "text/html": [
       "<div>\n",
       "<style scoped>\n",
       "    .dataframe tbody tr th:only-of-type {\n",
       "        vertical-align: middle;\n",
       "    }\n",
       "\n",
       "    .dataframe tbody tr th {\n",
       "        vertical-align: top;\n",
       "    }\n",
       "\n",
       "    .dataframe thead th {\n",
       "        text-align: right;\n",
       "    }\n",
       "</style>\n",
       "<table border=\"1\" class=\"dataframe\">\n",
       "  <thead>\n",
       "    <tr style=\"text-align: right;\">\n",
       "      <th></th>\n",
       "      <th>Strat_ID</th>\n",
       "      <th>Facies_ID</th>\n",
       "      <th>top</th>\n",
       "      <th>bot</th>\n",
       "    </tr>\n",
       "    <tr>\n",
       "      <th>bh_ID</th>\n",
       "      <th></th>\n",
       "      <th></th>\n",
       "      <th></th>\n",
       "      <th></th>\n",
       "    </tr>\n",
       "  </thead>\n",
       "  <tbody>\n",
       "    <tr>\n",
       "      <th>bh1</th>\n",
       "      <td>B</td>\n",
       "      <td>Clay</td>\n",
       "      <td>15.0</td>\n",
       "      <td>10.0</td>\n",
       "    </tr>\n",
       "    <tr>\n",
       "      <th>bh1</th>\n",
       "      <td>B</td>\n",
       "      <td>Sand</td>\n",
       "      <td>10.0</td>\n",
       "      <td>8.0</td>\n",
       "    </tr>\n",
       "    <tr>\n",
       "      <th>bh1</th>\n",
       "      <td>B</td>\n",
       "      <td>Clay</td>\n",
       "      <td>8.0</td>\n",
       "      <td>5.0</td>\n",
       "    </tr>\n",
       "    <tr>\n",
       "      <th>bh1</th>\n",
       "      <td>A</td>\n",
       "      <td>Silt</td>\n",
       "      <td>5.0</td>\n",
       "      <td>2.0</td>\n",
       "    </tr>\n",
       "    <tr>\n",
       "      <th>bh1</th>\n",
       "      <td>A</td>\n",
       "      <td>Gravel</td>\n",
       "      <td>2.0</td>\n",
       "      <td>-1.0</td>\n",
       "    </tr>\n",
       "    <tr>\n",
       "      <th>bh1</th>\n",
       "      <td>A</td>\n",
       "      <td>Sand</td>\n",
       "      <td>-1.0</td>\n",
       "      <td>-5.0</td>\n",
       "    </tr>\n",
       "    <tr>\n",
       "      <th>bh2</th>\n",
       "      <td>C</td>\n",
       "      <td>Gravel</td>\n",
       "      <td>15.0</td>\n",
       "      <td>10.0</td>\n",
       "    </tr>\n",
       "    <tr>\n",
       "      <th>bh2</th>\n",
       "      <td>B</td>\n",
       "      <td>Sand</td>\n",
       "      <td>10.0</td>\n",
       "      <td>8.0</td>\n",
       "    </tr>\n",
       "    <tr>\n",
       "      <th>bh2</th>\n",
       "      <td>B</td>\n",
       "      <td>Clay</td>\n",
       "      <td>8.0</td>\n",
       "      <td>4.0</td>\n",
       "    </tr>\n",
       "    <tr>\n",
       "      <th>bh2</th>\n",
       "      <td>A</td>\n",
       "      <td>Sand</td>\n",
       "      <td>4.0</td>\n",
       "      <td>2.0</td>\n",
       "    </tr>\n",
       "    <tr>\n",
       "      <th>bh2</th>\n",
       "      <td>A</td>\n",
       "      <td>Silt</td>\n",
       "      <td>2.0</td>\n",
       "      <td>-2.0</td>\n",
       "    </tr>\n",
       "    <tr>\n",
       "      <th>bh3</th>\n",
       "      <td>C</td>\n",
       "      <td>Gravel</td>\n",
       "      <td>15.0</td>\n",
       "      <td>12.0</td>\n",
       "    </tr>\n",
       "    <tr>\n",
       "      <th>bh3</th>\n",
       "      <td>B</td>\n",
       "      <td>Sand</td>\n",
       "      <td>12.0</td>\n",
       "      <td>11.0</td>\n",
       "    </tr>\n",
       "    <tr>\n",
       "      <th>bh3</th>\n",
       "      <td>B</td>\n",
       "      <td>Clay</td>\n",
       "      <td>11.0</td>\n",
       "      <td>8.0</td>\n",
       "    </tr>\n",
       "    <tr>\n",
       "      <th>bh3</th>\n",
       "      <td>B</td>\n",
       "      <td>Sand</td>\n",
       "      <td>8.0</td>\n",
       "      <td>7.5</td>\n",
       "    </tr>\n",
       "    <tr>\n",
       "      <th>bh3</th>\n",
       "      <td>B</td>\n",
       "      <td>Clay</td>\n",
       "      <td>7.5</td>\n",
       "      <td>7.0</td>\n",
       "    </tr>\n",
       "    <tr>\n",
       "      <th>bh3</th>\n",
       "      <td>A</td>\n",
       "      <td>Silt</td>\n",
       "      <td>7.0</td>\n",
       "      <td>5.0</td>\n",
       "    </tr>\n",
       "    <tr>\n",
       "      <th>bh3</th>\n",
       "      <td>A</td>\n",
       "      <td>Sand</td>\n",
       "      <td>5.0</td>\n",
       "      <td>4.0</td>\n",
       "    </tr>\n",
       "    <tr>\n",
       "      <th>bh3</th>\n",
       "      <td>A</td>\n",
       "      <td>Gravel</td>\n",
       "      <td>4.0</td>\n",
       "      <td>2.0</td>\n",
       "    </tr>\n",
       "    <tr>\n",
       "      <th>bh3</th>\n",
       "      <td>A</td>\n",
       "      <td>Silt</td>\n",
       "      <td>2.0</td>\n",
       "      <td>0.0</td>\n",
       "    </tr>\n",
       "  </tbody>\n",
       "</table>\n",
       "</div>"
      ],
      "text/plain": [
       "      Strat_ID Facies_ID   top   bot\n",
       "bh_ID                               \n",
       "bh1          B      Clay  15.0  10.0\n",
       "bh1          B      Sand  10.0   8.0\n",
       "bh1          B      Clay   8.0   5.0\n",
       "bh1          A      Silt   5.0   2.0\n",
       "bh1          A    Gravel   2.0  -1.0\n",
       "bh1          A      Sand  -1.0  -5.0\n",
       "bh2          C    Gravel  15.0  10.0\n",
       "bh2          B      Sand  10.0   8.0\n",
       "bh2          B      Clay   8.0   4.0\n",
       "bh2          A      Sand   4.0   2.0\n",
       "bh2          A      Silt   2.0  -2.0\n",
       "bh3          C    Gravel  15.0  12.0\n",
       "bh3          B      Sand  12.0  11.0\n",
       "bh3          B      Clay  11.0   8.0\n",
       "bh3          B      Sand   8.0   7.5\n",
       "bh3          B      Clay   7.5   7.0\n",
       "bh3          A      Silt   7.0   5.0\n",
       "bh3          A      Sand   5.0   4.0\n",
       "bh3          A    Gravel   4.0   2.0\n",
       "bh3          A      Silt   2.0   0.0"
      ]
     },
     "execution_count": 3,
     "metadata": {},
     "output_type": "execute_result"
    }
   ],
   "source": [
    "#import data\n",
    "db, l_bhs = ArchPy.inputs.load_bh_files(list_bhs=l_bh_path, \n",
    "                            units_data=unit_data_path,\n",
    "                            facies_data=facies_data_path, altitude=True)\n",
    "db #print database"
   ]
  },
  {
   "cell_type": "markdown",
   "metadata": {},
   "source": [
    "The database has been imported but no project has been defined. We need to create one that respects the Hard data present here."
   ]
  },
  {
   "cell_type": "markdown",
   "metadata": {},
   "source": [
    "## Second step\n",
    "\n",
    "Creating the Project with appropriated units/facies.\n",
    "\n",
    "For simplicity SIS will be used to fill these units."
   ]
  },
  {
   "cell_type": "code",
   "execution_count": 4,
   "metadata": {},
   "outputs": [],
   "source": [
    "T1 = ArchPy.base.Arch_table(name = \"ex2\", working_directory=\"2_data_folder\", seed = 10, verbose = 1)"
   ]
  },
  {
   "cell_type": "code",
   "execution_count": 5,
   "metadata": {},
   "outputs": [
    {
     "name": "stdout",
     "output_type": "stream",
     "text": [
      "## Adding Grid ##\n",
      "## Grid added and is now simulation grid ##\n"
     ]
    }
   ],
   "source": [
    "nx = 150 #number of cells in x\n",
    "ny = 150 \n",
    "nz = 50\n",
    "sx = 0.2 #cell width in x\n",
    "sy = 0.2\n",
    "sz = 0.5\n",
    "ox = 0 # x coordinates of the origin\n",
    "oy = 0\n",
    "oz = -10\n",
    "dimensions = (nx, ny, nz)\n",
    "spacing = (sx, sy, sz)\n",
    "origin = (ox, oy, oz)\n",
    "\n",
    "T1.add_grid(dimensions, spacing, origin) #adding the grid"
   ]
  },
  {
   "cell_type": "code",
   "execution_count": 6,
   "metadata": {},
   "outputs": [
    {
     "name": "stdout",
     "output_type": "stream",
     "text": [
      "Pile sets as Pile master\n"
     ]
    }
   ],
   "source": [
    "P1 = ArchPy.base.Pile(\"Pile_1\")\n",
    "T1.set_Pile_master(P1)"
   ]
  },
  {
   "cell_type": "markdown",
   "metadata": {},
   "source": [
    "## Units"
   ]
  },
  {
   "cell_type": "code",
   "execution_count": 7,
   "metadata": {
    "scrolled": true
   },
   "outputs": [
    {
     "name": "stdout",
     "output_type": "stream",
     "text": [
      "Unit C: Surface added for interpolation\n",
      "Unit B: covmodel for SIS added\n",
      "Unit B: Surface added for interpolation\n",
      "Unit A: covmodel for SIS added\n",
      "Unit A: Surface added for interpolation\n",
      "Stratigraphic unit C added\n",
      "Stratigraphic unit B added\n",
      "Stratigraphic unit A added\n"
     ]
    }
   ],
   "source": [
    "##C\n",
    "#Creation of the top unit C\n",
    "covmodel_SIS = gcm.CovModel3D(elem = [(\"spherical\", {\"w\":2, \"r\": [20,20,10]}),\n",
    "                                      (\"exponential\", {\"w\":1, \"r\": [30,30,10]})])\n",
    "\n",
    "dic_facies_c = {\"f_method\" : \"homogenous\", #filling method\n",
    "                 \"f_covmodel\" : covmodel_SIS, #SIS covmodels\n",
    "                } #dictionnary for the unit filling\n",
    "\n",
    "C = ArchPy.base.Unit(name = \"C\",\n",
    "                      order = 1,       #order in pile\n",
    "                      color = \"lightgreen\",  \n",
    "                      surface=ArchPy.base.Surface(),  # top surface\n",
    "                      ID = 1,\n",
    "                      dic_facies=dic_facies_c\n",
    "                     ) \n",
    "\n",
    "\n",
    "## B\n",
    "#surface B\n",
    "covmodel_b = gcm.CovModel2D(elem = [(\"cubic\", {\"w\":2, \"r\" : [15,5]})])\n",
    "dic_surf_b = {\"covmodel\" : covmodel_b, \"int_method\" : \"grf_ineq\"}\n",
    "Sb = ArchPy.base.Surface(name = \"Sb\", dic_surf=dic_surf_b)\n",
    "\n",
    "#dic facies b \n",
    "dic_facies_b = {\"f_method\" : \"SIS\", \"f_covmodel\" : covmodel_SIS, \"probability\" : [0.7, 0.3]} \n",
    "\n",
    "B = ArchPy.base.Unit(name = \"B\",\n",
    "                      order = 2,   #order in pile\n",
    "                      color = \"greenyellow\", #color\n",
    "                      surface=Sb, # top surface\n",
    "                      ID = 2,     #ID\n",
    "                      dic_facies=dic_facies_b #facies dictionnary\n",
    "                     )\n",
    "\n",
    "\n",
    "##A\n",
    "covmodel_a = gcm.CovModel2D(elem = [(\"spherical\", {\"w\":1, \"r\" : [5,5]})])\n",
    "dic_surf_a = {\"covmodel\" : covmodel_b, \"int_method\" : \"grf_ineq\"}\n",
    "Sa = ArchPy.base.Surface(name = \"Sa\", dic_surf=dic_surf_a)\n",
    "\n",
    "#dic facies a\n",
    "dic_facies_a = {\"f_method\" : \"SIS\", \"f_covmodel\" : covmodel_SIS} \n",
    "\n",
    "A = ArchPy.base.Unit(name = \"A\",\n",
    "                      order = 3,   #order in pile\n",
    "                      color = \"lightcoral\", #color\n",
    "                      surface=Sa, # top surface\n",
    "                      ID = 3,     #ID\n",
    "                      dic_facies=dic_facies_a #facies dictionnary\n",
    "                     )\n",
    "\n",
    "#Adding the units to the Pile\n",
    "P1.add_unit([C, B, A])"
   ]
  },
  {
   "cell_type": "markdown",
   "metadata": {},
   "source": [
    "## Facies"
   ]
  },
  {
   "cell_type": "code",
   "execution_count": 8,
   "metadata": {},
   "outputs": [
    {
     "name": "stdout",
     "output_type": "stream",
     "text": [
      "Facies Gravel added to unit C\n",
      "Facies Clay added to unit B\n",
      "Facies Sand added to unit B\n",
      "Facies Sand added to unit A\n",
      "Facies Gravel added to unit A\n",
      "Facies Silt added to unit A\n"
     ]
    }
   ],
   "source": [
    "Sand = ArchPy.base.Facies(ID = 1, name = \"Sand\", color = \"yellow\")\n",
    "Clay = ArchPy.base.Facies(ID = 2, name = \"Clay\", color = \"royalblue\")\n",
    "Gravel = ArchPy.base.Facies(ID = 3, name = \"Gravel\", color = \"palegreen\")\n",
    "Silt = ArchPy.base.Facies(ID = 4, name = \"Silt\", color = \"goldenrod\")\n",
    "\n",
    "\n",
    "C.add_facies(Gravel)\n",
    "B.add_facies([Clay, Sand])\n",
    "A.add_facies([Sand, Gravel, Silt])"
   ]
  },
  {
   "cell_type": "markdown",
   "metadata": {},
   "source": [
    "## Extract boreholes from database\n",
    "\n",
    "We can now extract boreholes objects with ``ArchPy.inputs.extract_bhs``.\n",
    "Note : This function requires the list of boreholes path"
   ]
  },
  {
   "cell_type": "code",
   "execution_count": 9,
   "metadata": {},
   "outputs": [],
   "source": [
    "boreholes = ArchPy.inputs.extract_bhs(df=db, list_bhs=l_bhs, ArchTable=T1)"
   ]
  },
  {
   "cell_type": "markdown",
   "metadata": {},
   "source": [
    "## Borehole class\n",
    "\n",
    "In ArchPy, the geological data are in \"borehole\" format. Here we have created boreholes directly from a database but they can also be create manually in python with ``ArchPy.base.borehole``.\n",
    "\n",
    "A borehole takes multiple arguments : \n",
    "- name\n",
    "- ID\n",
    "- x,y,z : top borehole coordinates \n",
    "- depth : depth of the borehole\n",
    "- log_strati : unit data which is a list of tuple, each tuple containing a unit object and an elevation \n",
    "(e.g. ``log_strati = [(D, 10), (C, 6), ...]``).\n",
    "- log_facies : facies data, identical to log_strati except unit object are facies object\n",
    "\n",
    "They are added to the project with ``add_bh``."
   ]
  },
  {
   "cell_type": "code",
   "execution_count": 10,
   "metadata": {},
   "outputs": [
    {
     "name": "stdout",
     "output_type": "stream",
     "text": [
      "Borehole bh1 added\n",
      "Borehole bh2 added\n",
      "Borehole bh3 added\n"
     ]
    }
   ],
   "source": [
    "T1.add_bh(boreholes)"
   ]
  },
  {
   "cell_type": "code",
   "execution_count": 11,
   "metadata": {},
   "outputs": [
    {
     "data": {
      "image/png": "[encoded data removed]",
      "text/plain": [
       "<PIL.Image.Image image mode=RGB size=1024x768>"
      ]
     },
     "metadata": {},
     "output_type": "display_data"
    }
   ],
   "source": [
    "#We can look at what the boreholes looks with plot_bhs()\n",
    "p=pv.Plotter()\n",
    "T1.plot_bhs(plotter=p)\n",
    "p.show_axes()\n",
    "p.show()"
   ]
  },
  {
   "cell_type": "markdown",
   "metadata": {},
   "source": [
    "**It is now important to process the data in order to get the HD correctly**\n",
    "\n",
    "All this step is automated by calling process_bhs"
   ]
  },
  {
   "cell_type": "code",
   "execution_count": 12,
   "metadata": {},
   "outputs": [
    {
     "name": "stdout",
     "output_type": "stream",
     "text": [
      "##### ORDERING UNITS ##### \n",
      "Pile Pile_1: ordering units\n",
      "Stratigraphic units have been sorted according to order\n",
      "hierarchical relations set\n",
      "\n",
      " ## Computing distributions for Normal Score Transform ##\n",
      "\n",
      "Processing ended successfully\n"
     ]
    }
   ],
   "source": [
    "T1.process_bhs()"
   ]
  },
  {
   "cell_type": "markdown",
   "metadata": {},
   "source": [
    "**Check**\n",
    "\n",
    "We can check that Hard Data have been extracted. They are stored inside surface objects directly.\n",
    "Here with B top surface that have 2 equality point and 1 inequality point (lower boundary)"
   ]
  },
  {
   "cell_type": "code",
   "execution_count": 13,
   "metadata": {},
   "outputs": [
    {
     "name": "stdout",
     "output_type": "stream",
     "text": [
      "equality point : 15 x, 25 y, 10.0 z\n",
      "equality point : 20 x, 5 y, 12.0 z\n",
      "inequality point : 1 x, 15 y, 15.0 vmin, nan vmax\n"
     ]
    }
   ],
   "source": [
    "unit = B\n",
    "\n",
    "for ix,iy,iz in zip(unit.surface.x,unit.surface.y,unit.surface.z):\n",
    "    print(\"equality point : {} x, {} y, {} z\".format(ix,iy,iz))\n",
    "\n",
    "for ineq in unit.surface.ineq:\n",
    "    print(\"inequality point : {} x, {} y, {} vmin, {} vmax\".format(ineq[0], ineq[1], ineq[3], ineq[4]))"
   ]
  },
  {
   "cell_type": "markdown",
   "metadata": {},
   "source": [
    "## Simulations"
   ]
  },
  {
   "cell_type": "code",
   "execution_count": 14,
   "metadata": {},
   "outputs": [
    {
     "name": "stdout",
     "output_type": "stream",
     "text": [
      "########## PILE Pile_1 ##########\n",
      "Pile Pile_1: ordering units\n",
      "Stratigraphic units have been sorted according to order\n",
      "\n",
      "#### COMPUTING SURFACE OF UNIT A\n",
      "A: time elapsed for computing surface 0.028437137603759766 s\n",
      "\n",
      "#### COMPUTING SURFACE OF UNIT B\n",
      "B: time elapsed for computing surface 0.1436460018157959 s\n",
      "\n",
      "#### COMPUTING SURFACE OF UNIT C\n",
      "C: time elapsed for computing surface 0.0 s\n",
      "\n",
      "Time elapsed for getting domains 0.1371469497680664 s\n",
      "##########################\n",
      "\n",
      "\n",
      "### 0.3406543731689453: Total time elapsed for computing surfaces ###\n"
     ]
    }
   ],
   "source": [
    "T1.compute_surf(1)"
   ]
  },
  {
   "cell_type": "code",
   "execution_count": 15,
   "metadata": {},
   "outputs": [
    {
     "name": "stdout",
     "output_type": "stream",
     "text": [
      "\n",
      "### Unit C: facies simulation with homogenous method ####\n",
      "### Unit C - realization 0 ###\n",
      "Time elapsed 0.02 s\n",
      "\n",
      "### Unit B: facies simulation with SIS method ####\n",
      "### Unit B - realization 0 ###\n",
      "Only one facies covmodels for multiples facies, adapt sill to right proportions\n",
      "Time elapsed 4.84 s\n",
      "\n",
      "### Unit A: facies simulation with SIS method ####\n",
      "### Unit A - realization 0 ###\n",
      "Only one facies covmodels for multiples facies, adapt sill to right proportions\n",
      "Time elapsed 10.47 s\n",
      "\n",
      "### 15.33: Total time elapsed for computing facies ###\n"
     ]
    }
   ],
   "source": [
    "T1.compute_facies(1)"
   ]
  },
  {
   "cell_type": "code",
   "execution_count": 16,
   "metadata": {
    "tags": [
     "nbsphinx-thumbnail"
    ]
   },
   "outputs": [
    {
     "data": {
      "image/png": "[encoded data removed]",
      "text/plain": [
       "<PIL.Image.Image image mode=RGB size=1024x768>"
      ]
     },
     "metadata": {},
     "output_type": "display_data"
    }
   ],
   "source": [
    "p = pv.Plotter()\n",
    "\n",
    "v_ex = 1\n",
    "T1.plot_units(plotter=p, slicex=(0.5), slicey=(0.5),v_ex=v_ex)\n",
    "T1.plot_bhs(plotter=p, v_ex=v_ex)\n",
    "p.show()"
   ]
  },
  {
   "cell_type": "code",
   "execution_count": 17,
   "metadata": {},
   "outputs": [
    {
     "data": {
      "image/png": "[encoded data removed]",
      "text/plain": [
       "<PIL.Image.Image image mode=RGB size=1024x768>"
      ]
     },
     "metadata": {},
     "output_type": "display_data"
    }
   ],
   "source": [
    "p = pv.Plotter()\n",
    "T1.plot_facies(plotter=p, slicex=(0.5), slicey=(0.5),v_ex=1)\n",
    "T1.plot_bhs(\"facies\", plotter=p, v_ex=1)\n",
    "p.show()"
   ]
  },
  {
   "cell_type": "markdown",
   "metadata": {},
   "source": [
    "This concludes this little tutorial on ArchPy inputs capabilities"
   ]
  }
 ],
 "metadata": {
  "celltoolbar": "Tags",
  "kernelspec": {
   "display_name": "Python 3 (ipykernel)",
   "language": "python",
   "name": "python3"
  },
  "language_info": {
   "codemirror_mode": {
    "name": "ipython",
    "version": 3
   },
   "file_extension": ".py",
   "mimetype": "text/x-python",
   "name": "python",
   "nbconvert_exporter": "python",
   "pygments_lexer": "ipython3",
   "version": "3.11.3"
  }
 },
 "nbformat": 4,
 "nbformat_minor": 4
}
